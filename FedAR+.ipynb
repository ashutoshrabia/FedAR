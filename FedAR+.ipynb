{
  "cells": [
    {
      "cell_type": "markdown",
      "metadata": {
        "id": "view-in-github",
        "colab_type": "text"
      },
      "source": [
        "<a href=\"https://colab.research.google.com/github/ashutoshrabia/fedAR-/blob/main/FedAR%2B.ipynb\" target=\"_parent\"><img src=\"https://colab.research.google.com/assets/colab-badge.svg\" alt=\"Open In Colab\"/></a>"
      ]
    },
    {
      "cell_type": "markdown",
      "metadata": {
        "id": "t4lPqGUI19fB"
      },
      "source": [
        "# Dataset"
      ]
    },
    {
      "cell_type": "code",
      "source": [
        "from google.colab import drive\n",
        "drive.mount('/content/drive')"
      ],
      "metadata": {
        "id": "UIZBWKnJWOTH",
        "colab": {
          "base_uri": "https://localhost:8080/"
        },
        "outputId": "b8b91a8c-225f-4395-858f-1ce28d5ca712"
      },
      "execution_count": null,
      "outputs": [
        {
          "output_type": "stream",
          "name": "stdout",
          "text": [
            "Drive already mounted at /content/drive; to attempt to forcibly remount, call drive.mount(\"/content/drive\", force_remount=True).\n"
          ]
        }
      ]
    },
    {
      "cell_type": "code",
      "execution_count": 1,
      "metadata": {
        "id": "2gl8mH9yYXQW",
        "colab": {
          "base_uri": "https://localhost:8080/"
        },
        "outputId": "50361acc-e2c4-4a8d-8b93-ef60f95397e9"
      },
      "outputs": [
        {
          "output_type": "stream",
          "name": "stdout",
          "text": [
            "             datetime info1 info2\n",
            "0 2012-05-30 00:00:07     0     0\n",
            "1 2012-05-30 00:00:12     0     0\n",
            "2 2012-05-30 00:00:17     0     0\n",
            "3 2012-05-30 00:00:21     0     0\n",
            "4 2012-05-30 00:00:26     0     0\n",
            "Merged DataFrame shape: (2024537, 3)\n"
          ]
        }
      ],
      "source": [
        "import pandas as pd\n",
        "import numpy as np\n",
        "import glob\n",
        "\n",
        "# Path to the \"washing\" folder containing all CSV files\n",
        "file_paths = glob.glob(\"/content/drive/MyDrive/complete/Washingmachine/*.csv\")\n",
        "\n",
        "# Load and concatenate all CSV files\n",
        "data_frames = []\n",
        "for file in file_paths:\n",
        "    # Read the entire file content as a single string\n",
        "    with open(file, 'r') as f:\n",
        "        file_content = f.read()\n",
        "\n",
        "    # Split the content by newline to get individual rows\n",
        "    rows = file_content.split('\\n')\n",
        "\n",
        "    # Create a DataFrame from the rows\n",
        "    df = pd.DataFrame(rows, columns=['data'])\n",
        "    data_frames.append(df)\n",
        "\n",
        "# Concatenate all files\n",
        "merged_df0 = pd.concat(data_frames, ignore_index=True)\n",
        "\n",
        "# Split the single column into 'datetime', 'info1', and 'info2'\n",
        "merged_df0[['datetime', 'info1', 'info2']] = merged_df0['data'].str.split(';', expand=True)\n",
        "\n",
        "# Drop the original 'data' column\n",
        "merged_df0.drop(columns=['data'], inplace=True)\n",
        "\n",
        "# Convert datetime to proper datetime format\n",
        "merged_df0['datetime'] = pd.to_datetime(merged_df0['datetime'], format='%d/%m/%Y %H:%M:%S', errors='coerce')\n",
        "\n",
        "print(merged_df0.head())\n",
        "print(f\"Merged DataFrame shape: {merged_df0.shape}\")"
      ]
    },
    {
      "cell_type": "markdown",
      "metadata": {
        "id": "Elc9jno4aY3_"
      },
      "source": [
        "### 0 -> washing machine\n"
      ]
    },
    {
      "cell_type": "code",
      "execution_count": 2,
      "metadata": {
        "colab": {
          "base_uri": "https://localhost:8080/"
        },
        "id": "eA135kJPZTTz",
        "outputId": "3c1dda2b-333f-432d-d4de-83d414b60628"
      },
      "outputs": [
        {
          "output_type": "stream",
          "name": "stdout",
          "text": [
            "             datetime info1 info2  appliance\n",
            "0 2012-05-30 00:00:07     0     0          0\n",
            "1 2012-05-30 00:00:12     0     0          0\n",
            "2 2012-05-30 00:00:17     0     0          0\n",
            "3 2012-05-30 00:00:21     0     0          0\n",
            "4 2012-05-30 00:00:26     0     0          0\n"
          ]
        }
      ],
      "source": [
        "merged_df0['appliance'] = 0\n",
        "\n",
        "# Display the updated DataFrame\n",
        "print(merged_df0.head())"
      ]
    },
    {
      "cell_type": "code",
      "execution_count": 3,
      "metadata": {
        "colab": {
          "base_uri": "https://localhost:8080/",
          "height": 210
        },
        "id": "3sVXuIIPaWww",
        "outputId": "61836b81-6822-4f89-d76b-184b28f473d4"
      },
      "outputs": [
        {
          "output_type": "execute_result",
          "data": {
            "text/plain": [
              "datetime     54\n",
              "info1        54\n",
              "info2        54\n",
              "appliance     0\n",
              "dtype: int64"
            ],
            "text/html": [
              "<div>\n",
              "<style scoped>\n",
              "    .dataframe tbody tr th:only-of-type {\n",
              "        vertical-align: middle;\n",
              "    }\n",
              "\n",
              "    .dataframe tbody tr th {\n",
              "        vertical-align: top;\n",
              "    }\n",
              "\n",
              "    .dataframe thead th {\n",
              "        text-align: right;\n",
              "    }\n",
              "</style>\n",
              "<table border=\"1\" class=\"dataframe\">\n",
              "  <thead>\n",
              "    <tr style=\"text-align: right;\">\n",
              "      <th></th>\n",
              "      <th>0</th>\n",
              "    </tr>\n",
              "  </thead>\n",
              "  <tbody>\n",
              "    <tr>\n",
              "      <th>datetime</th>\n",
              "      <td>54</td>\n",
              "    </tr>\n",
              "    <tr>\n",
              "      <th>info1</th>\n",
              "      <td>54</td>\n",
              "    </tr>\n",
              "    <tr>\n",
              "      <th>info2</th>\n",
              "      <td>54</td>\n",
              "    </tr>\n",
              "    <tr>\n",
              "      <th>appliance</th>\n",
              "      <td>0</td>\n",
              "    </tr>\n",
              "  </tbody>\n",
              "</table>\n",
              "</div><br><label><b>dtype:</b> int64</label>"
            ]
          },
          "metadata": {},
          "execution_count": 3
        }
      ],
      "source": [
        "count= merged_df0.isna().sum()\n",
        "count"
      ]
    },
    {
      "cell_type": "code",
      "execution_count": 4,
      "metadata": {
        "colab": {
          "base_uri": "https://localhost:8080/"
        },
        "id": "3fTsKiXNatfn",
        "outputId": "288014e0-9570-469d-e0af-c4abce8942cc"
      },
      "outputs": [
        {
          "output_type": "execute_result",
          "data": {
            "text/plain": [
              "(2024483, 4)"
            ]
          },
          "metadata": {},
          "execution_count": 4
        }
      ],
      "source": [
        "merged_df0= merged_df0.dropna()\n",
        "merged_df0.shape"
      ]
    },
    {
      "cell_type": "markdown",
      "metadata": {
        "id": "p09TdcS40WZ1"
      },
      "source": [
        "### 1 -> dishwasher"
      ]
    },
    {
      "cell_type": "code",
      "execution_count": 5,
      "metadata": {
        "colab": {
          "base_uri": "https://localhost:8080/"
        },
        "id": "5yPlEl52bLYD",
        "outputId": "c9e0ff42-4b76-47a8-8049-0c1cbc713681"
      },
      "outputs": [
        {
          "output_type": "stream",
          "name": "stdout",
          "text": [
            "             datetime info1 info2\n",
            "0 2012-06-16 00:00:02     0     0\n",
            "1 2012-06-16 00:00:03     0     0\n",
            "2 2012-06-16 00:00:04     0     0\n",
            "3 2012-06-16 00:00:05     0     0\n",
            "4 2012-06-16 00:00:06     0     0\n",
            "Merged DataFrame shape: (5716354, 3)\n"
          ]
        }
      ],
      "source": [
        "import pandas as pd\n",
        "import glob\n",
        "\n",
        "# Path to the \"washing\" folder containing all CSV files\n",
        "file_paths = glob.glob(\"/content/drive/MyDrive/complete/Dishwasher/*.csv\")\n",
        "\n",
        "# Load and concatenate all CSV files\n",
        "data_frames = []\n",
        "for file in file_paths:\n",
        "    # Read the entire file content as a single string\n",
        "    with open(file, 'r') as f:\n",
        "        file_content = f.read()\n",
        "\n",
        "    # Split the content by newline to get individual rows\n",
        "    rows = file_content.split('\\n')\n",
        "\n",
        "    # Create a DataFrame from the rows\n",
        "    df = pd.DataFrame(rows, columns=['data'])\n",
        "    data_frames.append(df)\n",
        "\n",
        "# Concatenate all files\n",
        "merged_df1 = pd.concat(data_frames, ignore_index=True)\n",
        "\n",
        "# Split the single column into 'datetime', 'info1', and 'info2'\n",
        "merged_df1[['datetime', 'info1', 'info2']] = merged_df1['data'].str.split(';', expand=True)\n",
        "\n",
        "# Drop the original 'data' column\n",
        "merged_df1.drop(columns=['data'], inplace=True)\n",
        "\n",
        "# Convert datetime to proper datetime format\n",
        "merged_df1['datetime'] = pd.to_datetime(merged_df1['datetime'], format='%d/%m/%Y %H:%M:%S', errors='coerce')\n",
        "\n",
        "print(merged_df1.head())\n",
        "print(f\"Merged DataFrame shape: {merged_df1.shape}\")"
      ]
    },
    {
      "cell_type": "code",
      "execution_count": 6,
      "metadata": {
        "colab": {
          "base_uri": "https://localhost:8080/"
        },
        "id": "_UDwGoaideH5",
        "outputId": "651d5688-4669-41e8-9363-7bac5115fe70"
      },
      "outputs": [
        {
          "output_type": "stream",
          "name": "stdout",
          "text": [
            "             datetime info1 info2  appliance\n",
            "0 2012-06-16 00:00:02     0     0          1\n",
            "1 2012-06-16 00:00:03     0     0          1\n",
            "2 2012-06-16 00:00:04     0     0          1\n",
            "3 2012-06-16 00:00:05     0     0          1\n",
            "4 2012-06-16 00:00:06     0     0          1\n"
          ]
        }
      ],
      "source": [
        "merged_df1['appliance'] = 1\n",
        "\n",
        "# Display the updated DataFrame\n",
        "print(merged_df1.head())"
      ]
    },
    {
      "cell_type": "code",
      "execution_count": 7,
      "metadata": {
        "colab": {
          "base_uri": "https://localhost:8080/"
        },
        "id": "ap8oXvbbdyuz",
        "outputId": "878e01f9-e9b7-4f94-cf38-f0dbb3f4a7fa"
      },
      "outputs": [
        {
          "output_type": "execute_result",
          "data": {
            "text/plain": [
              "(5716278, 4)"
            ]
          },
          "metadata": {},
          "execution_count": 7
        }
      ],
      "source": [
        "merged_df1= merged_df1.dropna()\n",
        "merged_df1.shape"
      ]
    },
    {
      "cell_type": "markdown",
      "metadata": {
        "id": "ohT__yZz0ixU"
      },
      "source": [
        "### 2 -> Amplifier"
      ]
    },
    {
      "cell_type": "code",
      "execution_count": 8,
      "metadata": {
        "colab": {
          "base_uri": "https://localhost:8080/"
        },
        "id": "gqm0f7FQcdPQ",
        "outputId": "4deac533-611c-480f-c185-0974e9abb0f3"
      },
      "outputs": [
        {
          "output_type": "stream",
          "name": "stdout",
          "text": [
            "             datetime info1 info2\n",
            "0 2012-07-02 00:00:08     0     0\n",
            "1 2012-07-02 00:00:12     0     0\n",
            "2 2012-07-02 00:00:19     0     0\n",
            "3 2012-07-02 00:00:26     0     0\n",
            "4 2012-07-02 00:00:32     0     0\n",
            "Merged DataFrame shape: (3399729, 3)\n"
          ]
        }
      ],
      "source": [
        "import pandas as pd\n",
        "import glob\n",
        "\n",
        "# Path to the \"washing\" folder containing all CSV files\n",
        "file_paths = glob.glob(\"/content/drive/MyDrive/complete/Amplifier/*.csv\")\n",
        "\n",
        "# Load and concatenate all CSV files\n",
        "data_frames = []\n",
        "for file in file_paths:\n",
        "    # Read the entire file content as a single string\n",
        "    with open(file, 'r') as f:\n",
        "        file_content = f.read()\n",
        "\n",
        "    # Split the content by newline to get individual rows\n",
        "    rows = file_content.split('\\n')\n",
        "\n",
        "    # Create a DataFrame from the rows\n",
        "    df = pd.DataFrame(rows, columns=['data'])\n",
        "    data_frames.append(df)\n",
        "\n",
        "# Concatenate all files\n",
        "merged_df2 = pd.concat(data_frames, ignore_index=True)\n",
        "\n",
        "# Split the single column into 'datetime', 'info1', and 'info2'\n",
        "merged_df2[['datetime', 'info1', 'info2']] = merged_df2['data'].str.split(';', expand=True)\n",
        "\n",
        "# Drop the original 'data' column\n",
        "merged_df2.drop(columns=['data'], inplace=True)\n",
        "\n",
        "# Convert datetime to proper datetime format\n",
        "merged_df2['datetime'] = pd.to_datetime(merged_df2['datetime'], format='%d/%m/%Y %H:%M:%S', errors='coerce')\n",
        "\n",
        "print(merged_df2.head())\n",
        "print(f\"Merged DataFrame shape: {merged_df2.shape}\")"
      ]
    },
    {
      "cell_type": "code",
      "execution_count": 9,
      "metadata": {
        "colab": {
          "base_uri": "https://localhost:8080/"
        },
        "id": "f1LkliIydiuq",
        "outputId": "020a0d19-780e-41ab-f9a7-d0b46b83dff8"
      },
      "outputs": [
        {
          "output_type": "stream",
          "name": "stdout",
          "text": [
            "             datetime info1 info2  appliance\n",
            "0 2012-07-02 00:00:08     0     0          2\n",
            "1 2012-07-02 00:00:12     0     0          2\n",
            "2 2012-07-02 00:00:19     0     0          2\n",
            "3 2012-07-02 00:00:26     0     0          2\n",
            "4 2012-07-02 00:00:32     0     0          2\n"
          ]
        }
      ],
      "source": [
        "merged_df2['appliance'] = 2\n",
        "\n",
        "# Display the updated DataFrame\n",
        "print(merged_df2.head())"
      ]
    },
    {
      "cell_type": "code",
      "execution_count": 10,
      "metadata": {
        "colab": {
          "base_uri": "https://localhost:8080/"
        },
        "id": "qn0D2Vq1d1rd",
        "outputId": "0b661a56-ed98-4a3a-9e83-aa69dced2553"
      },
      "outputs": [
        {
          "output_type": "execute_result",
          "data": {
            "text/plain": [
              "(3399640, 4)"
            ]
          },
          "metadata": {},
          "execution_count": 10
        }
      ],
      "source": [
        "merged_df2= merged_df2.dropna()\n",
        "merged_df2.shape"
      ]
    },
    {
      "cell_type": "markdown",
      "metadata": {
        "id": "pjSRXHe-0moU"
      },
      "source": [
        "### 3 -> Refrigerator"
      ]
    },
    {
      "cell_type": "code",
      "execution_count": 11,
      "metadata": {
        "colab": {
          "base_uri": "https://localhost:8080/"
        },
        "id": "KpJMpQbscilk",
        "outputId": "395085c5-5fe8-47cf-bb5b-eded72cf06bc"
      },
      "outputs": [
        {
          "output_type": "stream",
          "name": "stdout",
          "text": [
            "             datetime info1 info2\n",
            "0 2012-06-17 00:00:02     0     0\n",
            "1 2012-06-17 00:00:03     0     0\n",
            "2 2012-06-17 00:00:04     0     0\n",
            "3 2012-06-17 00:00:05     0     0\n",
            "4 2012-06-17 00:00:06     0     0\n",
            "Merged DataFrame shape: (14643997, 3)\n"
          ]
        }
      ],
      "source": [
        "import pandas as pd\n",
        "import glob\n",
        "\n",
        "# Path to the \"washing\" folder containing all CSV files\n",
        "file_paths = glob.glob(\"/content/drive/MyDrive/complete/Refrigerator/*.csv\")\n",
        "\n",
        "# Load and concatenate all CSV files\n",
        "data_frames = []\n",
        "for file in file_paths:\n",
        "    # Read the entire file content as a single string\n",
        "    with open(file, 'r') as f:\n",
        "        file_content = f.read()\n",
        "\n",
        "    # Split the content by newline to get individual rows\n",
        "    rows = file_content.split('\\n')\n",
        "\n",
        "    # Create a DataFrame from the rows\n",
        "    df = pd.DataFrame(rows, columns=['data'])\n",
        "    data_frames.append(df)\n",
        "\n",
        "# Concatenate all files\n",
        "merged_df3 = pd.concat(data_frames, ignore_index=True)\n",
        "\n",
        "# Split the single column into 'datetime', 'info1', and 'info2'\n",
        "merged_df3[['datetime', 'info1', 'info2']] = merged_df3['data'].str.split(';', expand=True)\n",
        "\n",
        "# Drop the original 'data' column\n",
        "merged_df3.drop(columns=['data'], inplace=True)\n",
        "\n",
        "# Convert datetime to proper datetime format\n",
        "merged_df3['datetime'] = pd.to_datetime(merged_df3['datetime'], format='%d/%m/%Y %H:%M:%S', errors='coerce')\n",
        "\n",
        "print(merged_df3.head())\n",
        "print(f\"Merged DataFrame shape: {merged_df3.shape}\")"
      ]
    },
    {
      "cell_type": "code",
      "execution_count": 12,
      "metadata": {
        "colab": {
          "base_uri": "https://localhost:8080/"
        },
        "id": "G4ZapOd6dltP",
        "outputId": "52cee53d-3f2e-4967-f2d9-6fb83727419b"
      },
      "outputs": [
        {
          "output_type": "stream",
          "name": "stdout",
          "text": [
            "             datetime info1 info2  appliance\n",
            "0 2012-06-17 00:00:02     0     0          3\n",
            "1 2012-06-17 00:00:03     0     0          3\n",
            "2 2012-06-17 00:00:04     0     0          3\n",
            "3 2012-06-17 00:00:05     0     0          3\n",
            "4 2012-06-17 00:00:06     0     0          3\n"
          ]
        }
      ],
      "source": [
        "merged_df3['appliance'] = 3\n",
        "\n",
        "# Display the updated DataFrame\n",
        "print(merged_df3.head())"
      ]
    },
    {
      "cell_type": "code",
      "execution_count": 13,
      "metadata": {
        "colab": {
          "base_uri": "https://localhost:8080/"
        },
        "id": "1HWdbVgad4Na",
        "outputId": "5e5d5edd-c1b8-4298-aa25-d07965b50be3"
      },
      "outputs": [
        {
          "output_type": "execute_result",
          "data": {
            "text/plain": [
              "(14643792, 4)"
            ]
          },
          "metadata": {},
          "execution_count": 13
        }
      ],
      "source": [
        "merged_df3= merged_df3.dropna()\n",
        "merged_df3.shape"
      ]
    },
    {
      "cell_type": "code",
      "execution_count": 14,
      "metadata": {
        "colab": {
          "base_uri": "https://localhost:8080/"
        },
        "id": "vsPpx7Z9tQb5",
        "outputId": "6944f3c7-196e-43ee-e4c3-5002b116c21a"
      },
      "outputs": [
        {
          "output_type": "stream",
          "name": "stdout",
          "text": [
            "(4043792, 4)\n",
            "              datetime info1 info2  appliance\n",
            "1  2012-06-17 00:00:03     0     0          3\n",
            "4  2012-06-17 00:00:06     0     0          3\n",
            "19 2012-06-17 00:00:20     0     0          3\n",
            "20 2012-06-17 00:00:21     0     0          3\n",
            "21 2012-06-17 00:00:22     0     0          3\n"
          ]
        }
      ],
      "source": [
        "\n",
        "rows_to_drop = merged_df3.sample(n=10600000, random_state=42).index\n",
        "\n",
        "# Drop the selected rows\n",
        "merged_df3 = merged_df3.drop(index=rows_to_drop)\n",
        "\n",
        "# Display the updated DataFrame\n",
        "print(merged_df3.shape)  # Should now have 5000 fewer rows\n",
        "print(merged_df3.head())\n"
      ]
    },
    {
      "cell_type": "markdown",
      "metadata": {
        "id": "U-f5AmCx1OjI"
      },
      "source": [
        "### 4 -> PC laptop"
      ]
    },
    {
      "cell_type": "code",
      "execution_count": 15,
      "metadata": {
        "colab": {
          "base_uri": "https://localhost:8080/"
        },
        "id": "AICTRAFbckGg",
        "outputId": "88250a4e-c43d-4a5f-9571-815b1907b83f"
      },
      "outputs": [
        {
          "output_type": "stream",
          "name": "stdout",
          "text": [
            "             datetime info1 info2\n",
            "0 2012-01-20 00:00:03     0     0\n",
            "1 2012-01-20 00:00:07     0     0\n",
            "2 2012-01-20 00:00:10     0     0\n",
            "3 2012-01-20 00:00:14     0     0\n",
            "4 2012-01-20 00:00:17     0     0\n",
            "Merged DataFrame shape: (2413417, 3)\n"
          ]
        }
      ],
      "source": [
        "import pandas as pd\n",
        "import glob\n",
        "\n",
        "# Path to the \"washing\" folder containing all CSV files\n",
        "file_paths = glob.glob(\"/content/drive/MyDrive/complete/PC-Laptop/*.csv\")\n",
        "\n",
        "# Load and concatenate all CSV files\n",
        "data_frames = []\n",
        "for file in file_paths:\n",
        "    # Read the entire file content as a single string\n",
        "    with open(file, 'r') as f:\n",
        "        file_content = f.read()\n",
        "\n",
        "    # Split the content by newline to get individual rows\n",
        "    rows = file_content.split('\\n')\n",
        "\n",
        "    # Create a DataFrame from the rows\n",
        "    df = pd.DataFrame(rows, columns=['data'])\n",
        "    data_frames.append(df)\n",
        "\n",
        "# Concatenate all files\n",
        "merged_df4 = pd.concat(data_frames, ignore_index=True)\n",
        "\n",
        "# Split the single column into 'datetime', 'info1', and 'info2'\n",
        "merged_df4[['datetime', 'info1', 'info2']] = merged_df4['data'].str.split(';', expand=True)\n",
        "\n",
        "# Drop the original 'data' column\n",
        "merged_df4.drop(columns=['data'], inplace=True)\n",
        "\n",
        "# Convert datetime to proper datetime format\n",
        "merged_df4['datetime'] = pd.to_datetime(merged_df4['datetime'], format='%d/%m/%Y %H:%M:%S', errors='coerce')\n",
        "\n",
        "print(merged_df4.head())\n",
        "print(f\"Merged DataFrame shape: {merged_df4.shape}\")"
      ]
    },
    {
      "cell_type": "code",
      "execution_count": 16,
      "metadata": {
        "colab": {
          "base_uri": "https://localhost:8080/"
        },
        "id": "Yblhx1Z1dof9",
        "outputId": "658c6120-f1d6-4f8e-b26b-9adafb77779a"
      },
      "outputs": [
        {
          "output_type": "stream",
          "name": "stdout",
          "text": [
            "             datetime info1 info2  appliance\n",
            "0 2012-01-20 00:00:03     0     0          4\n",
            "1 2012-01-20 00:00:07     0     0          4\n",
            "2 2012-01-20 00:00:10     0     0          4\n",
            "3 2012-01-20 00:00:14     0     0          4\n",
            "4 2012-01-20 00:00:17     0     0          4\n"
          ]
        }
      ],
      "source": [
        "merged_df4['appliance'] = 4\n",
        "\n",
        "# Display the updated DataFrame\n",
        "print(merged_df4.head())"
      ]
    },
    {
      "cell_type": "code",
      "execution_count": 17,
      "metadata": {
        "colab": {
          "base_uri": "https://localhost:8080/"
        },
        "id": "PaQyvMRWd6mS",
        "outputId": "dc778243-90b8-4443-d786-728543cf2e6d"
      },
      "outputs": [
        {
          "output_type": "execute_result",
          "data": {
            "text/plain": [
              "(2413352, 4)"
            ]
          },
          "metadata": {},
          "execution_count": 17
        }
      ],
      "source": [
        "merged_df4= merged_df4.dropna()\n",
        "merged_df4.shape"
      ]
    },
    {
      "cell_type": "code",
      "execution_count": 18,
      "metadata": {
        "colab": {
          "base_uri": "https://localhost:8080/"
        },
        "id": "cxtLlmMUdZly",
        "outputId": "c2cb9dae-283c-4e10-b680-daa6758c4b63"
      },
      "outputs": [
        {
          "output_type": "stream",
          "name": "stdout",
          "text": [
            "             datetime info1 info2  appliance\n",
            "0 2012-05-30 00:00:07     0     0          0\n",
            "1 2012-05-30 00:00:12     0     0          0\n",
            "2 2012-05-30 00:00:17     0     0          0\n",
            "3 2012-05-30 00:00:21     0     0          0\n",
            "4 2012-05-30 00:00:26     0     0          0\n",
            "Final DataFrame shape: (17597545, 4)\n"
          ]
        }
      ],
      "source": [
        "\n",
        "final_df = pd.concat([merged_df0, merged_df1, merged_df2, merged_df3, merged_df4], ignore_index=True)\n",
        "\n",
        "# Display the result\n",
        "print(final_df.head())\n",
        "print(f\"Final DataFrame shape: {final_df.shape}\")\n"
      ]
    },
    {
      "cell_type": "markdown",
      "source": [
        "# Simple Classification\n"
      ],
      "metadata": {
        "id": "ncKrk31aXUyQ"
      }
    },
    {
      "cell_type": "code",
      "execution_count": null,
      "metadata": {
        "colab": {
          "background_save": true
        },
        "id": "0f31j7vrAIcs"
      },
      "outputs": [],
      "source": [
        "from sklearn.model_selection import train_test_split"
      ]
    },
    {
      "cell_type": "code",
      "execution_count": null,
      "metadata": {
        "colab": {
          "background_save": true
        },
        "id": "lMIvabEzAS5r"
      },
      "outputs": [],
      "source": [
        "x = final_df.iloc[:, 1:-1]\n",
        "y = final_df.iloc[:, -1]"
      ]
    },
    {
      "cell_type": "code",
      "execution_count": null,
      "metadata": {
        "colab": {
          "background_save": true
        },
        "id": "ofqub28WAS3E"
      },
      "outputs": [],
      "source": [
        "import pandas as pd\n",
        "import numpy as np\n",
        "%matplotlib inline\n",
        "import matplotlib.pyplot as plt\n",
        "import scipy.stats as stats\n",
        "from sklearn import tree\n",
        "import seaborn as sns\n",
        "from sklearn.preprocessing import LabelEncoder\n",
        "from sklearn.model_selection import train_test_split, learning_curve\n",
        "from sklearn.metrics import average_precision_score\n",
        "from xgboost.sklearn import XGBClassifier\n",
        "from sklearn.preprocessing import OrdinalEncoder\n",
        "from sklearn.impute import SimpleImputer\n",
        "from sklearn.metrics import f1_score\n",
        "from sklearn.metrics import accuracy_score\n",
        "from sklearn.metrics import precision_score\n",
        "from sklearn.metrics import recall_score\n",
        "from sklearn.linear_model import LinearRegression\n",
        "from sklearn.linear_model import LogisticRegression\n",
        "from sklearn.metrics import classification_report\n",
        "from sklearn.model_selection import RandomizedSearchCV\n",
        "from sklearn.ensemble import RandomForestRegressor, RandomForestClassifier\n",
        "from sklearn.ensemble import GradientBoostingClassifier\n",
        "from mpl_toolkits.mplot3d import Axes3D\n",
        "from sklearn.preprocessing import StandardScaler\n",
        "import os\n",
        "from sklearn.decomposition import PCA\n",
        "from imblearn.over_sampling import SMOTE\n",
        "import xgboost as xgb\n",
        "from scipy.stats import pearsonr\n",
        "from scipy import stats\n",
        "from sklearn.svm import LinearSVC\n",
        "from sklearn.preprocessing import normalize, StandardScaler\n",
        "from sklearn.utils.class_weight import compute_sample_weight\n",
        "from sklearn.metrics import roc_auc_score\n",
        "import time\n",
        "from sklearn.metrics import roc_auc_score\n",
        "import gc, sys\n",
        "from sklearn.tree import DecisionTreeClassifier\n",
        "from sklearn.neighbors import KNeighborsClassifier\n",
        "from sklearn.neural_network import MLPClassifier\n",
        "from sklearn import svm, datasets\n",
        "from sklearn.metrics import confusion_matrix"
      ]
    },
    {
      "cell_type": "code",
      "execution_count": null,
      "metadata": {
        "colab": {
          "background_save": true
        },
        "id": "XVjVeWNVBHdb"
      },
      "outputs": [],
      "source": [
        "model1 = RandomForestClassifier()"
      ]
    },
    {
      "cell_type": "code",
      "execution_count": null,
      "metadata": {
        "colab": {
          "background_save": true
        },
        "id": "Tqeh6ns-BHOU"
      },
      "outputs": [],
      "source": [
        "x_train,x_test,y_train,y_test = train_test_split(x,y,test_size=0.2,random_state=42)"
      ]
    },
    {
      "cell_type": "code",
      "source": [
        "\n",
        "model1.fit(x_train, y_train)\n",
        "model1.score(x_test, y_test)"
      ],
      "metadata": {
        "id": "FudFv9biXD3R"
      },
      "execution_count": null,
      "outputs": []
    },
    {
      "cell_type": "markdown",
      "metadata": {
        "id": "z85A4i3c1jzT"
      },
      "source": [
        "# Time series Analysis"
      ]
    },
    {
      "cell_type": "code",
      "execution_count": null,
      "metadata": {
        "id": "SaAUAafSoKRr"
      },
      "outputs": [],
      "source": [
        "# Separate by appliance if 'appliance' is a categorical column\n",
        "appliance_dfs = {appliance: df for appliance, df in final_df.groupby('appliance')}\n"
      ]
    },
    {
      "cell_type": "code",
      "execution_count": null,
      "metadata": {
        "id": "zNJiVZOGyGMP"
      },
      "outputs": [],
      "source": [
        "appliance_dfs"
      ]
    },
    {
      "cell_type": "code",
      "execution_count": null,
      "metadata": {
        "id": "A_XKqq0m0UaH"
      },
      "outputs": [],
      "source": [
        "import warnings\n",
        "import numpy as np\n",
        "import pandas as pd\n",
        "import matplotlib.pyplot as plt\n",
        "from tensorflow import keras\n",
        "from tensorflow.keras import optimizers\n",
        "from tensorflow.keras.utils import plot_model\n",
        "from tensorflow.keras.models import Sequential, Model\n",
        "from tensorflow.python.keras.layers.convolutional import Conv1D, MaxPooling1D\n",
        "from tensorflow.python.keras.layers import Dense, LSTM, RepeatVector, TimeDistributed, Flatten\n",
        "from sklearn.metrics import mean_squared_error\n",
        "from sklearn.model_selection import train_test_split\n",
        "import matplotlib.pyplot as plt\n",
        "import seaborn as sns\n",
        "import plotly.express as px\n",
        "import plotly.graph_objects as go\n",
        "from plotly.subplots import make_subplots\n",
        "\n",
        "import plotly.offline as py #visualization\n",
        "py.init_notebook_mode(connected=True) #visualization\n",
        "import plotly.graph_objs as go #visualization\n",
        "import plotly.tools as tls #visualization\n",
        "import plotly.figure_factory as ff\n",
        "\n",
        "\n",
        "from plotly.offline import init_notebook_mode, iplot\n",
        "\n",
        "%matplotlib inline\n",
        "warnings.filterwarnings(\"ignore\")\n",
        "init_notebook_mode(connected=True)\n",
        "\n",
        "# Set seeds to make the experiment more reproducible.\n",
        "from tensorflow.compat.v1 import set_random_seed\n",
        "from numpy.random import seed\n",
        "set_random_seed(1)\n",
        "seed(1)"
      ]
    },
    {
      "cell_type": "code",
      "execution_count": null,
      "metadata": {
        "id": "1fGoqycC0GnQ"
      },
      "outputs": [],
      "source": [
        "def series_to_supervised(data, window=1, lag=1, dropnan=True):\n",
        "    cols, names = list(), list()\n",
        "    # Input sequence (t-n, ... t-1)\n",
        "    for i in range(window, 0, -1):\n",
        "        cols.append(data.shift(i))\n",
        "        names += [('%s(t-%d)' % (col, i)) for col in data.columns]\n",
        "    # Current timestep (t=0)\n",
        "    cols.append(data)\n",
        "    names += [('%s(t)' % (col)) for col in data.columns]\n",
        "\n",
        "    # Target timestep (t=lag)\n",
        "    cols.append(data.shift(-lag))\n",
        "    names += [('%s(t+%d)' % (col, lag)) for col in data.columns]\n",
        "\n",
        "    # Put it all together\n",
        "    agg = pd.concat(cols, axis=1)\n",
        "    agg.columns = names\n",
        "\n",
        "    # Drop rows with NaN values\n",
        "    if dropnan:\n",
        "        agg.dropna(inplace=True)\n",
        "    return agg"
      ]
    },
    {
      "cell_type": "code",
      "execution_count": null,
      "metadata": {
        "id": "xc6tEePG0MKK"
      },
      "outputs": [],
      "source": [
        "window = 29\n",
        "lag = lag_size\n",
        "series = series_to_supervised(train_gp.drop('date', axis=1), window=window, lag=lag)\n",
        "series.head()"
      ]
    },
    {
      "cell_type": "code",
      "execution_count": null,
      "metadata": {
        "id": "r7doZ6fUpqHy"
      },
      "outputs": [],
      "source": [
        "# Set resample interval as desired, e.g., 5 seconds\n",
        "resample_interval = '5S'  # 'S' for seconds, 'T' for minutes\n",
        "\n",
        "for appliance, df in appliance_dfs.items():\n",
        "    # Reset the index to avoid potential issues with duplicate datetime values\n",
        "    df = df.reset_index()\n",
        "\n",
        "    # Convert 'datetime' column to datetime objects if necessary\n",
        "    df['datetime'] = pd.to_datetime(df['datetime'])\n",
        "\n",
        "    # Set datetime as index\n",
        "    df.set_index('datetime', inplace=True)\n",
        "\n",
        "    # Resample to the specified interval, handling potential duplicates\n",
        "    # Use 'first', 'last', 'mean', 'sum', etc. to aggregate duplicate values\n",
        "    appliance_dfs[appliance] = df.resample(resample_interval).first() # Choose an appropriate aggregation method"
      ]
    },
    {
      "cell_type": "code",
      "execution_count": null,
      "metadata": {
        "id": "oaRc6qI6pt0V"
      },
      "outputs": [],
      "source": [
        "for appliance, df in appliance_dfs.items():\n",
        "    # Fill NaNs using interpolation\n",
        "    appliance_dfs[appliance] = df.interpolate(method='linear')\n",
        "    # Alternatively, use forward-fill\n",
        "    # appliance_dfs[appliance].fillna(method='ffill', inplace=True)\n"
      ]
    },
    {
      "cell_type": "code",
      "execution_count": null,
      "metadata": {
        "id": "F-hGzSOrpuP8"
      },
      "outputs": [],
      "source": [
        "# Define a common date range across all appliances\n",
        "common_start = min(df.index.min() for df in appliance_dfs.values())\n",
        "common_end = max(df.index.max() for df in appliance_dfs.values())\n",
        "common_index = pd.date_range(start=common_start, end=common_end, freq=resample_interval)\n",
        "\n",
        "# Reindex each appliance DataFrame to the common index\n",
        "for appliance, df in appliance_dfs.items():\n",
        "    appliance_dfs[appliance] = df.reindex(common_index)\n"
      ]
    },
    {
      "cell_type": "code",
      "execution_count": null,
      "metadata": {
        "id": "NjFiRWx4rvio"
      },
      "outputs": [],
      "source": [
        "# Combine all appliances back into one DataFrame\n",
        "time_series_df = pd.concat(appliance_dfs, axis=1)\n",
        "time_series_df.columns = [f\"{appliance}_{col}\" for appliance, df in appliance_dfs.items() for col in df.columns]\n"
      ]
    },
    {
      "cell_type": "code",
      "execution_count": null,
      "metadata": {
        "id": "3zfQb9djryXN"
      },
      "outputs": [],
      "source": [
        "time_series_df"
      ]
    },
    {
      "cell_type": "code",
      "execution_count": null,
      "metadata": {
        "id": "te5hZRpivkIc"
      },
      "outputs": [],
      "source": [
        "chunk_size = 1000  # Adjust the chunk size based on available memory\n",
        "\n",
        "def process_chunk(chunk):\n",
        "    chunk = chunk.interpolate(method='linear', limit_direction='both')\n",
        "    return chunk.fillna(method='ffill').fillna(method='bfill')\n",
        "\n",
        "time_series_df = pd.concat([process_chunk(time_series_df[i:i+chunk_size]) for i in range(0, len(time_series_df), chunk_size)])\n"
      ]
    },
    {
      "cell_type": "code",
      "execution_count": null,
      "metadata": {
        "id": "pMmUslyOvwZi"
      },
      "outputs": [],
      "source": [
        "# Convert columns to reduce memory usage\n",
        "for col in time_series_df.select_dtypes(include=['float64']).columns:\n",
        "    time_series_df[col] = time_series_df[col].astype('float32')\n"
      ]
    },
    {
      "cell_type": "markdown",
      "metadata": {
        "id": "qYh33SPCj2rm"
      },
      "source": [
        "# Time seried part2\n"
      ]
    },
    {
      "cell_type": "code",
      "execution_count": 19,
      "metadata": {
        "id": "2ZR3y66cjyV1"
      },
      "outputs": [],
      "source": [
        "import pandas as pd\n",
        "import numpy as np\n",
        "from sklearn.preprocessing import StandardScaler\n",
        "\n",
        "\n",
        "# Feature engineering\n",
        "final_df['year'] = final_df['datetime'].dt.year\n",
        "final_df['month'] = final_df['datetime'].dt.month\n",
        "final_df['day'] = final_df['datetime'].dt.day\n",
        "final_df['hour'] = final_df['datetime'].dt.hour\n",
        "final_df['day_of_week'] = final_df['datetime'].dt.dayofweek\n",
        "\n",
        "# Cyclic encoding\n",
        "final_df['hour_sin'] = np.sin(2 * np.pi * final_df['hour'] / 24)\n",
        "final_df['hour_cos'] = np.cos(2 * np.pi * final_df['hour'] / 24)\n",
        "final_df['day_of_week_sin'] = np.sin(2 * np.pi * final_df['day_of_week'] / 7)\n",
        "final_df['day_of_week_cos'] = np.cos(2 * np.pi * final_df['day_of_week'] / 7)\n",
        "\n",
        "# Lag and rolling features\n",
        "final_df['info1_lag_1'] = final_df['info1'].shift(1)\n",
        "final_df['info2_lag_1'] = final_df['info2'].shift(1)\n",
        "final_df['info1_rolling_mean_3'] = final_df['info1'].rolling(window=3).mean()\n",
        "final_df['info2_rolling_std_3'] = final_df['info2'].rolling(window=3).std()\n",
        "\n",
        "# Drop rows with NaN values after creating lag/rolling features\n",
        "final_df.dropna(inplace=True)\n",
        "\n",
        "# Scaling\n",
        "scaler = StandardScaler()\n",
        "scaled_features = scaler.fit_transform(final_df[['info1', 'info2', 'info1_lag_1', 'info2_lag_1', 'info1_rolling_mean_3', 'info2_rolling_std_3']])\n",
        "final_df[['info1', 'info2', 'info1_lag_1', 'info2_lag_1', 'info1_rolling_mean_3', 'info2_rolling_std_3']] = scaled_features\n",
        "\n",
        "# Data split\n",
        "train_size = int(0.7 * len(final_df))\n",
        "val_size = int(0.15 * len(final_df))\n",
        "train, val, test = final_df[:train_size], final_df[train_size:train_size + val_size], final_df[train_size + val_size:]\n"
      ]
    },
    {
      "cell_type": "code",
      "execution_count": null,
      "metadata": {
        "id": "qZAq4Rbykw8A"
      },
      "outputs": [],
      "source": [
        "merged_df0['year'] = merged_df0['datetime'].dt.year\n",
        "merged_df0['month'] = merged_df0['datetime'].dt.month\n",
        "merged_df0['day'] = merged_df0['datetime'].dt.day\n",
        "merged_df0['hour'] = merged_df0['datetime'].dt.hour\n",
        "merged_df0['day_of_week'] = merged_df0['datetime'].dt.dayofweek\n",
        "merged_df0['hour_sin'] = np.sin(2 * np.pi * merged_df0['hour'] / 24)\n",
        "merged_df0['hour_cos'] = np.cos(2 * np.pi * merged_df0['hour'] / 24)\n",
        "merged_df0['day_of_week_sin'] = np.sin(2 * np.pi * merged_df0['day_of_week'] / 7)\n",
        "merged_df0['day_of_week_cos'] = np.cos(2 * np.pi * merged_df0['day_of_week'] / 7)\n",
        "from sklearn.preprocessing import StandardScaler\n",
        "scaler = StandardScaler()\n",
        "merged_df0[['info1', 'info2']] = scaler.fit_transform(merged_df0[['info1', 'info2']])\n",
        "merged_df0['info1_lag_1'] = merged_df0['info1'].shift(1)\n",
        "merged_df0['info2_lag_1'] = merged_df0['info2'].shift(1)\n",
        "merged_df0['info1_rolling_mean_3'] = merged_df0['info1'].rolling(window=3).mean()\n",
        "merged_df0['info2_rolling_std_3'] = merged_df0['info2'].rolling(window=3).std()\n",
        "train_size = int(len(merged_df0) * 0.7)\n",
        "train, test = merged_df0[:train_size], merged_df0[train_size:]\n"
      ]
    },
    {
      "cell_type": "code",
      "execution_count": 20,
      "metadata": {
        "id": "8WWaFps1mGTu",
        "colab": {
          "base_uri": "https://localhost:8080/"
        },
        "outputId": "7c1ade67-5de3-4381-f10d-ea01854a9778"
      },
      "outputs": [
        {
          "output_type": "stream",
          "name": "stderr",
          "text": [
            "<ipython-input-20-27b000d97806>:7: SettingWithCopyWarning: \n",
            "A value is trying to be set on a copy of a slice from a DataFrame.\n",
            "Try using .loc[row_indexer,col_indexer] = value instead\n",
            "\n",
            "See the caveats in the documentation: https://pandas.pydata.org/pandas-docs/stable/user_guide/indexing.html#returning-a-view-versus-a-copy\n",
            "  train['datetime'] = pd.to_datetime(train['datetime'])\n",
            "<ipython-input-20-27b000d97806>:8: SettingWithCopyWarning: \n",
            "A value is trying to be set on a copy of a slice from a DataFrame.\n",
            "Try using .loc[row_indexer,col_indexer] = value instead\n",
            "\n",
            "See the caveats in the documentation: https://pandas.pydata.org/pandas-docs/stable/user_guide/indexing.html#returning-a-view-versus-a-copy\n",
            "  test['datetime'] = pd.to_datetime(test['datetime'])\n"
          ]
        }
      ],
      "source": [
        "import numpy as np\n",
        "from sklearn.ensemble import RandomForestClassifier\n",
        "from sklearn.metrics import accuracy_score, classification_report, confusion_matrix\n",
        "\n",
        "# Convert datetime column to useful features\n",
        "# Ensure 'datetime' is in datetime format\n",
        "train['datetime'] = pd.to_datetime(train['datetime'])\n",
        "test['datetime'] = pd.to_datetime(test['datetime'])\n",
        "\n",
        "# Extract features from datetime\n",
        "for final_df in [train, test]:\n",
        "    final_df['year'] = final_df['datetime'].dt.year\n",
        "    final_df['month'] = final_df['datetime'].dt.month\n",
        "    final_df['day'] = final_df['datetime'].dt.day\n",
        "    final_df['hour'] = final_df['datetime'].dt.hour\n",
        "    final_df['day_of_week'] = final_df['datetime'].dt.dayofweek\n",
        "    final_df['hour_sin'] = np.sin(2 * np.pi * final_df['hour'] / 24)\n",
        "    final_df['hour_cos'] = np.cos(2 * np.pi * final_df['hour'] / 24)\n",
        "    final_df['day_of_week_sin'] = np.sin(2 * np.pi * final_df['day_of_week'] / 7)\n",
        "    final_df['day_of_week_cos'] = np.cos(2 * np.pi * final_df['day_of_week'] / 7)\n",
        "\n",
        "# Drop original datetime column\n",
        "train = train.drop(columns=['datetime'])\n",
        "test = test.drop(columns=['datetime'])\n",
        "\n",
        "# Separate features and target variable\n",
        "X_train = train.drop(columns=['appliance'])\n",
        "y_train = train['appliance']\n",
        "\n",
        "X_test = test.drop(columns=['appliance'])\n",
        "y_test = test['appliance']\n",
        "\n"
      ]
    },
    {
      "cell_type": "code",
      "source": [
        "train.head()"
      ],
      "metadata": {
        "colab": {
          "base_uri": "https://localhost:8080/",
          "height": 226
        },
        "id": "RT8K9vERi0f6",
        "outputId": "875fc63e-0bd7-4f5b-c8f5-3c2901de384a"
      },
      "execution_count": 23,
      "outputs": [
        {
          "output_type": "execute_result",
          "data": {
            "text/plain": [
              "      info1     info2  appliance  year  month  day  hour  day_of_week  \\\n",
              "2 -0.200225 -0.199044          0  2012      5   30     0            2   \n",
              "3 -0.200225 -0.199044          0  2012      5   30     0            2   \n",
              "4 -0.200225 -0.199044          0  2012      5   30     0            2   \n",
              "5 -0.200225 -0.199044          0  2012      5   30     0            2   \n",
              "6 -0.200225 -0.199044          0  2012      5   30     0            2   \n",
              "\n",
              "   hour_sin  hour_cos  day_of_week_sin  day_of_week_cos  info1_lag_1  \\\n",
              "2       0.0       1.0         0.974928        -0.222521    -0.200225   \n",
              "3       0.0       1.0         0.974928        -0.222521    -0.200225   \n",
              "4       0.0       1.0         0.974928        -0.222521    -0.200225   \n",
              "5       0.0       1.0         0.974928        -0.222521    -0.200225   \n",
              "6       0.0       1.0         0.974928        -0.222521    -0.200225   \n",
              "\n",
              "   info2_lag_1  info1_rolling_mean_3  info2_rolling_std_3  \n",
              "2    -0.199044             -0.200485            -0.051781  \n",
              "3    -0.199044             -0.200485            -0.051781  \n",
              "4    -0.199044             -0.200485            -0.051781  \n",
              "5    -0.199044             -0.200485            -0.051781  \n",
              "6    -0.199044             -0.200485            -0.051781  "
            ],
            "text/html": [
              "\n",
              "  <div id=\"df-ac7f0a56-12e0-4e7b-ace6-9d0153c00ede\" class=\"colab-df-container\">\n",
              "    <div>\n",
              "<style scoped>\n",
              "    .dataframe tbody tr th:only-of-type {\n",
              "        vertical-align: middle;\n",
              "    }\n",
              "\n",
              "    .dataframe tbody tr th {\n",
              "        vertical-align: top;\n",
              "    }\n",
              "\n",
              "    .dataframe thead th {\n",
              "        text-align: right;\n",
              "    }\n",
              "</style>\n",
              "<table border=\"1\" class=\"dataframe\">\n",
              "  <thead>\n",
              "    <tr style=\"text-align: right;\">\n",
              "      <th></th>\n",
              "      <th>info1</th>\n",
              "      <th>info2</th>\n",
              "      <th>appliance</th>\n",
              "      <th>year</th>\n",
              "      <th>month</th>\n",
              "      <th>day</th>\n",
              "      <th>hour</th>\n",
              "      <th>day_of_week</th>\n",
              "      <th>hour_sin</th>\n",
              "      <th>hour_cos</th>\n",
              "      <th>day_of_week_sin</th>\n",
              "      <th>day_of_week_cos</th>\n",
              "      <th>info1_lag_1</th>\n",
              "      <th>info2_lag_1</th>\n",
              "      <th>info1_rolling_mean_3</th>\n",
              "      <th>info2_rolling_std_3</th>\n",
              "    </tr>\n",
              "  </thead>\n",
              "  <tbody>\n",
              "    <tr>\n",
              "      <th>2</th>\n",
              "      <td>-0.200225</td>\n",
              "      <td>-0.199044</td>\n",
              "      <td>0</td>\n",
              "      <td>2012</td>\n",
              "      <td>5</td>\n",
              "      <td>30</td>\n",
              "      <td>0</td>\n",
              "      <td>2</td>\n",
              "      <td>0.0</td>\n",
              "      <td>1.0</td>\n",
              "      <td>0.974928</td>\n",
              "      <td>-0.222521</td>\n",
              "      <td>-0.200225</td>\n",
              "      <td>-0.199044</td>\n",
              "      <td>-0.200485</td>\n",
              "      <td>-0.051781</td>\n",
              "    </tr>\n",
              "    <tr>\n",
              "      <th>3</th>\n",
              "      <td>-0.200225</td>\n",
              "      <td>-0.199044</td>\n",
              "      <td>0</td>\n",
              "      <td>2012</td>\n",
              "      <td>5</td>\n",
              "      <td>30</td>\n",
              "      <td>0</td>\n",
              "      <td>2</td>\n",
              "      <td>0.0</td>\n",
              "      <td>1.0</td>\n",
              "      <td>0.974928</td>\n",
              "      <td>-0.222521</td>\n",
              "      <td>-0.200225</td>\n",
              "      <td>-0.199044</td>\n",
              "      <td>-0.200485</td>\n",
              "      <td>-0.051781</td>\n",
              "    </tr>\n",
              "    <tr>\n",
              "      <th>4</th>\n",
              "      <td>-0.200225</td>\n",
              "      <td>-0.199044</td>\n",
              "      <td>0</td>\n",
              "      <td>2012</td>\n",
              "      <td>5</td>\n",
              "      <td>30</td>\n",
              "      <td>0</td>\n",
              "      <td>2</td>\n",
              "      <td>0.0</td>\n",
              "      <td>1.0</td>\n",
              "      <td>0.974928</td>\n",
              "      <td>-0.222521</td>\n",
              "      <td>-0.200225</td>\n",
              "      <td>-0.199044</td>\n",
              "      <td>-0.200485</td>\n",
              "      <td>-0.051781</td>\n",
              "    </tr>\n",
              "    <tr>\n",
              "      <th>5</th>\n",
              "      <td>-0.200225</td>\n",
              "      <td>-0.199044</td>\n",
              "      <td>0</td>\n",
              "      <td>2012</td>\n",
              "      <td>5</td>\n",
              "      <td>30</td>\n",
              "      <td>0</td>\n",
              "      <td>2</td>\n",
              "      <td>0.0</td>\n",
              "      <td>1.0</td>\n",
              "      <td>0.974928</td>\n",
              "      <td>-0.222521</td>\n",
              "      <td>-0.200225</td>\n",
              "      <td>-0.199044</td>\n",
              "      <td>-0.200485</td>\n",
              "      <td>-0.051781</td>\n",
              "    </tr>\n",
              "    <tr>\n",
              "      <th>6</th>\n",
              "      <td>-0.200225</td>\n",
              "      <td>-0.199044</td>\n",
              "      <td>0</td>\n",
              "      <td>2012</td>\n",
              "      <td>5</td>\n",
              "      <td>30</td>\n",
              "      <td>0</td>\n",
              "      <td>2</td>\n",
              "      <td>0.0</td>\n",
              "      <td>1.0</td>\n",
              "      <td>0.974928</td>\n",
              "      <td>-0.222521</td>\n",
              "      <td>-0.200225</td>\n",
              "      <td>-0.199044</td>\n",
              "      <td>-0.200485</td>\n",
              "      <td>-0.051781</td>\n",
              "    </tr>\n",
              "  </tbody>\n",
              "</table>\n",
              "</div>\n",
              "    <div class=\"colab-df-buttons\">\n",
              "\n",
              "  <div class=\"colab-df-container\">\n",
              "    <button class=\"colab-df-convert\" onclick=\"convertToInteractive('df-ac7f0a56-12e0-4e7b-ace6-9d0153c00ede')\"\n",
              "            title=\"Convert this dataframe to an interactive table.\"\n",
              "            style=\"display:none;\">\n",
              "\n",
              "  <svg xmlns=\"http://www.w3.org/2000/svg\" height=\"24px\" viewBox=\"0 -960 960 960\">\n",
              "    <path d=\"M120-120v-720h720v720H120Zm60-500h600v-160H180v160Zm220 220h160v-160H400v160Zm0 220h160v-160H400v160ZM180-400h160v-160H180v160Zm440 0h160v-160H620v160ZM180-180h160v-160H180v160Zm440 0h160v-160H620v160Z\"/>\n",
              "  </svg>\n",
              "    </button>\n",
              "\n",
              "  <style>\n",
              "    .colab-df-container {\n",
              "      display:flex;\n",
              "      gap: 12px;\n",
              "    }\n",
              "\n",
              "    .colab-df-convert {\n",
              "      background-color: #E8F0FE;\n",
              "      border: none;\n",
              "      border-radius: 50%;\n",
              "      cursor: pointer;\n",
              "      display: none;\n",
              "      fill: #1967D2;\n",
              "      height: 32px;\n",
              "      padding: 0 0 0 0;\n",
              "      width: 32px;\n",
              "    }\n",
              "\n",
              "    .colab-df-convert:hover {\n",
              "      background-color: #E2EBFA;\n",
              "      box-shadow: 0px 1px 2px rgba(60, 64, 67, 0.3), 0px 1px 3px 1px rgba(60, 64, 67, 0.15);\n",
              "      fill: #174EA6;\n",
              "    }\n",
              "\n",
              "    .colab-df-buttons div {\n",
              "      margin-bottom: 4px;\n",
              "    }\n",
              "\n",
              "    [theme=dark] .colab-df-convert {\n",
              "      background-color: #3B4455;\n",
              "      fill: #D2E3FC;\n",
              "    }\n",
              "\n",
              "    [theme=dark] .colab-df-convert:hover {\n",
              "      background-color: #434B5C;\n",
              "      box-shadow: 0px 1px 3px 1px rgba(0, 0, 0, 0.15);\n",
              "      filter: drop-shadow(0px 1px 2px rgba(0, 0, 0, 0.3));\n",
              "      fill: #FFFFFF;\n",
              "    }\n",
              "  </style>\n",
              "\n",
              "    <script>\n",
              "      const buttonEl =\n",
              "        document.querySelector('#df-ac7f0a56-12e0-4e7b-ace6-9d0153c00ede button.colab-df-convert');\n",
              "      buttonEl.style.display =\n",
              "        google.colab.kernel.accessAllowed ? 'block' : 'none';\n",
              "\n",
              "      async function convertToInteractive(key) {\n",
              "        const element = document.querySelector('#df-ac7f0a56-12e0-4e7b-ace6-9d0153c00ede');\n",
              "        const dataTable =\n",
              "          await google.colab.kernel.invokeFunction('convertToInteractive',\n",
              "                                                    [key], {});\n",
              "        if (!dataTable) return;\n",
              "\n",
              "        const docLinkHtml = 'Like what you see? Visit the ' +\n",
              "          '<a target=\"_blank\" href=https://colab.research.google.com/notebooks/data_table.ipynb>data table notebook</a>'\n",
              "          + ' to learn more about interactive tables.';\n",
              "        element.innerHTML = '';\n",
              "        dataTable['output_type'] = 'display_data';\n",
              "        await google.colab.output.renderOutput(dataTable, element);\n",
              "        const docLink = document.createElement('div');\n",
              "        docLink.innerHTML = docLinkHtml;\n",
              "        element.appendChild(docLink);\n",
              "      }\n",
              "    </script>\n",
              "  </div>\n",
              "\n",
              "\n",
              "<div id=\"df-92ff84a3-2b53-4130-9f37-f1274d31545f\">\n",
              "  <button class=\"colab-df-quickchart\" onclick=\"quickchart('df-92ff84a3-2b53-4130-9f37-f1274d31545f')\"\n",
              "            title=\"Suggest charts\"\n",
              "            style=\"display:none;\">\n",
              "\n",
              "<svg xmlns=\"http://www.w3.org/2000/svg\" height=\"24px\"viewBox=\"0 0 24 24\"\n",
              "     width=\"24px\">\n",
              "    <g>\n",
              "        <path d=\"M19 3H5c-1.1 0-2 .9-2 2v14c0 1.1.9 2 2 2h14c1.1 0 2-.9 2-2V5c0-1.1-.9-2-2-2zM9 17H7v-7h2v7zm4 0h-2V7h2v10zm4 0h-2v-4h2v4z\"/>\n",
              "    </g>\n",
              "</svg>\n",
              "  </button>\n",
              "\n",
              "<style>\n",
              "  .colab-df-quickchart {\n",
              "      --bg-color: #E8F0FE;\n",
              "      --fill-color: #1967D2;\n",
              "      --hover-bg-color: #E2EBFA;\n",
              "      --hover-fill-color: #174EA6;\n",
              "      --disabled-fill-color: #AAA;\n",
              "      --disabled-bg-color: #DDD;\n",
              "  }\n",
              "\n",
              "  [theme=dark] .colab-df-quickchart {\n",
              "      --bg-color: #3B4455;\n",
              "      --fill-color: #D2E3FC;\n",
              "      --hover-bg-color: #434B5C;\n",
              "      --hover-fill-color: #FFFFFF;\n",
              "      --disabled-bg-color: #3B4455;\n",
              "      --disabled-fill-color: #666;\n",
              "  }\n",
              "\n",
              "  .colab-df-quickchart {\n",
              "    background-color: var(--bg-color);\n",
              "    border: none;\n",
              "    border-radius: 50%;\n",
              "    cursor: pointer;\n",
              "    display: none;\n",
              "    fill: var(--fill-color);\n",
              "    height: 32px;\n",
              "    padding: 0;\n",
              "    width: 32px;\n",
              "  }\n",
              "\n",
              "  .colab-df-quickchart:hover {\n",
              "    background-color: var(--hover-bg-color);\n",
              "    box-shadow: 0 1px 2px rgba(60, 64, 67, 0.3), 0 1px 3px 1px rgba(60, 64, 67, 0.15);\n",
              "    fill: var(--button-hover-fill-color);\n",
              "  }\n",
              "\n",
              "  .colab-df-quickchart-complete:disabled,\n",
              "  .colab-df-quickchart-complete:disabled:hover {\n",
              "    background-color: var(--disabled-bg-color);\n",
              "    fill: var(--disabled-fill-color);\n",
              "    box-shadow: none;\n",
              "  }\n",
              "\n",
              "  .colab-df-spinner {\n",
              "    border: 2px solid var(--fill-color);\n",
              "    border-color: transparent;\n",
              "    border-bottom-color: var(--fill-color);\n",
              "    animation:\n",
              "      spin 1s steps(1) infinite;\n",
              "  }\n",
              "\n",
              "  @keyframes spin {\n",
              "    0% {\n",
              "      border-color: transparent;\n",
              "      border-bottom-color: var(--fill-color);\n",
              "      border-left-color: var(--fill-color);\n",
              "    }\n",
              "    20% {\n",
              "      border-color: transparent;\n",
              "      border-left-color: var(--fill-color);\n",
              "      border-top-color: var(--fill-color);\n",
              "    }\n",
              "    30% {\n",
              "      border-color: transparent;\n",
              "      border-left-color: var(--fill-color);\n",
              "      border-top-color: var(--fill-color);\n",
              "      border-right-color: var(--fill-color);\n",
              "    }\n",
              "    40% {\n",
              "      border-color: transparent;\n",
              "      border-right-color: var(--fill-color);\n",
              "      border-top-color: var(--fill-color);\n",
              "    }\n",
              "    60% {\n",
              "      border-color: transparent;\n",
              "      border-right-color: var(--fill-color);\n",
              "    }\n",
              "    80% {\n",
              "      border-color: transparent;\n",
              "      border-right-color: var(--fill-color);\n",
              "      border-bottom-color: var(--fill-color);\n",
              "    }\n",
              "    90% {\n",
              "      border-color: transparent;\n",
              "      border-bottom-color: var(--fill-color);\n",
              "    }\n",
              "  }\n",
              "</style>\n",
              "\n",
              "  <script>\n",
              "    async function quickchart(key) {\n",
              "      const quickchartButtonEl =\n",
              "        document.querySelector('#' + key + ' button');\n",
              "      quickchartButtonEl.disabled = true;  // To prevent multiple clicks.\n",
              "      quickchartButtonEl.classList.add('colab-df-spinner');\n",
              "      try {\n",
              "        const charts = await google.colab.kernel.invokeFunction(\n",
              "            'suggestCharts', [key], {});\n",
              "      } catch (error) {\n",
              "        console.error('Error during call to suggestCharts:', error);\n",
              "      }\n",
              "      quickchartButtonEl.classList.remove('colab-df-spinner');\n",
              "      quickchartButtonEl.classList.add('colab-df-quickchart-complete');\n",
              "    }\n",
              "    (() => {\n",
              "      let quickchartButtonEl =\n",
              "        document.querySelector('#df-92ff84a3-2b53-4130-9f37-f1274d31545f button');\n",
              "      quickchartButtonEl.style.display =\n",
              "        google.colab.kernel.accessAllowed ? 'block' : 'none';\n",
              "    })();\n",
              "  </script>\n",
              "</div>\n",
              "\n",
              "    </div>\n",
              "  </div>\n"
            ],
            "application/vnd.google.colaboratory.intrinsic+json": {
              "type": "dataframe",
              "variable_name": "train"
            }
          },
          "metadata": {},
          "execution_count": 23
        }
      ]
    },
    {
      "cell_type": "code",
      "execution_count": null,
      "metadata": {
        "id": "BQj647c64YY6"
      },
      "outputs": [],
      "source": [
        "# Train the Random Forest model\n",
        "model = RandomForestClassifier(n_estimators=100, random_state=42)\n",
        "model.fit(X_train, y_train)\n",
        "\n",
        "# Predict on the test set\n",
        "y_pred = model.predict(X_test)\n",
        "\n",
        "# Calculate accuracy\n",
        "accuracy = accuracy_score(y_test, y_pred)\n",
        "print(f\"Accuracy: {accuracy * 100:.2f}%\")\n",
        "\n",
        "# Detailed classification report\n",
        "print(classification_report(y_test, y_pred))\n",
        "print(confusion_matrix(y_test, y_pred))\n"
      ]
    },
    {
      "cell_type": "code",
      "execution_count": null,
      "metadata": {
        "colab": {
          "base_uri": "https://localhost:8080/"
        },
        "id": "FcX6JGTCmz-U",
        "outputId": "280f0052-e33e-4eac-c969-c7ec899c45cc"
      },
      "outputs": [
        {
          "name": "stdout",
          "output_type": "stream",
          "text": [
            "Accuracy: 4.74%\n"
          ]
        }
      ],
      "source": [
        "# Predict on the test set\n",
        "y_pred = model.predict(X_test)\n",
        "accuracy = accuracy_score(y_test, y_pred)\n",
        "print(f\"Accuracy: {accuracy * 100:.2f}%\")"
      ]
    },
    {
      "cell_type": "markdown",
      "metadata": {
        "id": "lwyLiRMhHb8a"
      },
      "source": [
        "# features Importance"
      ]
    },
    {
      "cell_type": "code",
      "execution_count": null,
      "metadata": {
        "colab": {
          "base_uri": "https://localhost:8080/",
          "height": 193
        },
        "id": "K9I1NXSS4iee",
        "outputId": "6de403d0-1117-4e5f-e8c5-269cfa3f3020"
      },
      "outputs": [
        {
          "ename": "NameError",
          "evalue": "name 'model' is not defined",
          "output_type": "error",
          "traceback": [
            "\u001b[0;31m---------------------------------------------------------------------------\u001b[0m",
            "\u001b[0;31mNameError\u001b[0m                                 Traceback (most recent call last)",
            "\u001b[0;32m<ipython-input-21-62006f36a847>\u001b[0m in \u001b[0;36m<cell line: 1>\u001b[0;34m()\u001b[0m\n\u001b[0;32m----> 1\u001b[0;31m \u001b[0mimportances\u001b[0m \u001b[0;34m=\u001b[0m \u001b[0mmodel\u001b[0m\u001b[0;34m.\u001b[0m\u001b[0mfeature_importances_\u001b[0m\u001b[0;34m\u001b[0m\u001b[0;34m\u001b[0m\u001b[0m\n\u001b[0m\u001b[1;32m      2\u001b[0m \u001b[0mindices\u001b[0m \u001b[0;34m=\u001b[0m \u001b[0mnp\u001b[0m\u001b[0;34m.\u001b[0m\u001b[0margsort\u001b[0m\u001b[0;34m(\u001b[0m\u001b[0mimportances\u001b[0m\u001b[0;34m)\u001b[0m\u001b[0;34m[\u001b[0m\u001b[0;34m:\u001b[0m\u001b[0;34m:\u001b[0m\u001b[0;34m-\u001b[0m\u001b[0;36m1\u001b[0m\u001b[0;34m]\u001b[0m\u001b[0;34m\u001b[0m\u001b[0;34m\u001b[0m\u001b[0m\n\u001b[1;32m      3\u001b[0m \u001b[0;32mfor\u001b[0m \u001b[0mf\u001b[0m \u001b[0;32min\u001b[0m \u001b[0mrange\u001b[0m\u001b[0;34m(\u001b[0m\u001b[0mX_train\u001b[0m\u001b[0;34m.\u001b[0m\u001b[0mshape\u001b[0m\u001b[0;34m[\u001b[0m\u001b[0;36m1\u001b[0m\u001b[0;34m]\u001b[0m\u001b[0;34m)\u001b[0m\u001b[0;34m:\u001b[0m\u001b[0;34m\u001b[0m\u001b[0;34m\u001b[0m\u001b[0m\n\u001b[1;32m      4\u001b[0m     \u001b[0mprint\u001b[0m\u001b[0;34m(\u001b[0m\u001b[0;34mf\"{f + 1}. Feature {X_train.columns[indices[f]]}: {importances[indices[f]]}\"\u001b[0m\u001b[0;34m)\u001b[0m\u001b[0;34m\u001b[0m\u001b[0;34m\u001b[0m\u001b[0m\n",
            "\u001b[0;31mNameError\u001b[0m: name 'model' is not defined"
          ]
        }
      ],
      "source": [
        "importances = model.feature_importances_\n",
        "indices = np.argsort(importances)[::-1]\n",
        "for f in range(X_train.shape[1]):\n",
        "    print(f\"{f + 1}. Feature {X_train.columns[indices[f]]}: {importances[indices[f]]}\")\n"
      ]
    },
    {
      "cell_type": "markdown",
      "metadata": {
        "id": "ZagwfHASHJwX"
      },
      "source": [
        "# Grid Search"
      ]
    },
    {
      "cell_type": "code",
      "execution_count": null,
      "metadata": {
        "id": "8T-Ub2eN90p7"
      },
      "outputs": [],
      "source": [
        "from sklearn.ensemble import RandomForestClassifier\n",
        "from sklearn.model_selection import GridSearchCV\n",
        "\n",
        "# Set the parameter grid\n",
        "param_grid = {\n",
        "    'n_estimators': [100, 200],\n",
        "    'max_depth': [None, 10, 20, 30],\n",
        "    'min_samples_split': [2, 5, 10],\n",
        "    'min_samples_leaf': [1, 2, 4],\n",
        "}\n",
        "\n",
        "# Instantiate the model\n",
        "rf = RandomForestClassifier(random_state=42)\n",
        "\n",
        "# Instantiate the grid search\n",
        "grid_search = GridSearchCV(estimator=rf, param_grid=param_grid,\n",
        "                           cv=3, n_jobs=-1, verbose=2)\n",
        "\n",
        "# Fit grid search\n",
        "grid_search.fit(X_train, y_train)\n",
        "\n",
        "# Best parameters and estimator\n",
        "print(\"Best Parameters:\", grid_search.best_params_)\n",
        "best_rf_model = grid_search.best_estimator_\n",
        "\n",
        "# Evaluate on test data\n",
        "accuracy = best_rf_model.score(X_test, y_test)\n",
        "print(f'Test Accuracy: {accuracy * 100:.2f}%')\n"
      ]
    },
    {
      "cell_type": "markdown",
      "metadata": {
        "id": "SUU3kdvpG_B8"
      },
      "source": [
        "# Random Search"
      ]
    },
    {
      "cell_type": "code",
      "execution_count": null,
      "metadata": {
        "id": "2fEZx4CaG97i"
      },
      "outputs": [],
      "source": [
        "from sklearn.model_selection import RandomizedSearchCV\n",
        "\n",
        "param_dist = {\n",
        "    'n_estimators': [100, 200, 300],\n",
        "    'max_depth': [None, 10, 20, 30],\n",
        "    'min_samples_split': [2, 5, 10],\n",
        "    'min_samples_leaf': [1, 2, 4],\n",
        "    'max_features': ['auto', 'sqrt', 'log2'],\n",
        "}\n",
        "\n",
        "random_search = RandomizedSearchCV(RandomForestClassifier(random_state=42),\n",
        "                                   param_distributions=param_dist,\n",
        "                                   n_iter=50,  # number of parameter settings sampled\n",
        "                                   cv=3,\n",
        "                                   verbose=1,\n",
        "                                   n_jobs=-1,  # use all available cores\n",
        "                                   random_state=42)\n",
        "\n",
        "random_search.fit(X_train, y_train)\n",
        "best_model = random_search.best_estimator_"
      ]
    },
    {
      "cell_type": "code",
      "execution_count": 22,
      "metadata": {
        "id": "EcatCyj8IkPB",
        "colab": {
          "base_uri": "https://localhost:8080/"
        },
        "outputId": "5bb5f1d3-32b0-420d-fbd7-38d2d0cd215c"
      },
      "outputs": [
        {
          "output_type": "stream",
          "name": "stdout",
          "text": [
            "Epoch 1/2\n",
            "615914/615914 [==============================] - 1086s 2ms/step - loss: 1.0366 - accuracy: 0.5735 - val_loss: 1.0218 - val_accuracy: 0.5782\n",
            "Epoch 2/2\n",
            "615914/615914 [==============================] - 1081s 2ms/step - loss: 1.0315 - accuracy: 0.5752 - val_loss: 1.0203 - val_accuracy: 0.5785\n",
            "76990/76990 [==============================] - 97s 1ms/step - loss: 1.0203 - accuracy: 0.5785\n",
            "Test Accuracy: 57.85%\n"
          ]
        }
      ],
      "source": [
        "import numpy as np\n",
        "import pandas as pd\n",
        "from sklearn.model_selection import train_test_split\n",
        "from sklearn.preprocessing import StandardScaler\n",
        "from keras.models import Sequential\n",
        "from keras.layers import Conv2D, Flatten, Dense, Dropout, Reshape\n",
        "from keras.utils import to_categorical\n",
        "\n",
        "# Sample data preparation (make sure to replace this with your actual dataset)\n",
        "# Assuming you have a DataFrame 'train' with 'info1', 'info2', and 'appliance'\n",
        "# Train DataFrame structure:\n",
        "# train = pd.DataFrame({\n",
        "#     'info1': [...],\n",
        "#     'info2': [...],\n",
        "#     'appliance': [...]\n",
        "# })\n",
        "\n",
        "# Prepare input features and target variable\n",
        "X = train[['info1', 'info2']].values\n",
        "y = train['appliance'].values\n",
        "\n",
        "# One-hot encode target variable if necessary\n",
        "y_encoded = to_categorical(y)\n",
        "\n",
        "# Normalize the features\n",
        "scaler = StandardScaler()\n",
        "X_scaled = scaler.fit_transform(X)\n",
        "\n",
        "# Reshape data for CNN (samples, height, width, channels)\n",
        "# Here, we'll use 1x2 as height and width since we have two features\n",
        "X_reshaped = X_scaled.reshape(X_scaled.shape[0], 1, 2, 1)  # 1 row, 2 columns, 1 channel\n",
        "\n",
        "# Split the dataset into training and test sets\n",
        "X_train, X_test, y_train, y_test = train_test_split(X_reshaped, y_encoded, test_size=0.2, random_state=42)\n",
        "\n",
        "# Build the CNN model\n",
        "model = Sequential()\n",
        "\n",
        "# Add a 2D convolutional layer\n",
        "model.add(Conv2D(16, (1, 1), activation='relu', input_shape=(1, 2, 1)))  # 1x2 input\n",
        "model.add(Flatten())\n",
        "model.add(Dense(32, activation='relu'))\n",
        "model.add(Dropout(0.5))\n",
        "model.add(Dense(y_encoded.shape[1], activation='softmax'))  # Output layer\n",
        "\n",
        "# Compile the model\n",
        "model.compile(optimizer='adam', loss='categorical_crossentropy', metrics=['accuracy'])\n",
        "\n",
        "# Train the model\n",
        "model.fit(X_train, y_train, epochs=2, batch_size=16, validation_data=(X_test, y_test))\n",
        "\n",
        "# Evaluate the model\n",
        "loss, accuracy = model.evaluate(X_test, y_test)\n",
        "print(f'Test Accuracy: {accuracy * 100:.2f}%')"
      ]
    },
    {
      "cell_type": "markdown",
      "metadata": {
        "id": "oFVqOZYMIDM4"
      },
      "source": [
        "# feature importance 2"
      ]
    },
    {
      "cell_type": "code",
      "execution_count": null,
      "metadata": {
        "colab": {
          "base_uri": "https://localhost:8080/",
          "height": 564
        },
        "id": "NKEmCMA_m_bD",
        "outputId": "7637cd17-1d4b-4be6-f443-fde77dcb11bf"
      },
      "outputs": [
        {
          "data": {
            "image/png": "[encoded data removed]",
            "text/plain": [
              "<Figure size 1000x600 with 1 Axes>"
            ]
          },
          "metadata": {},
          "output_type": "display_data"
        }
      ],
      "source": [
        "import matplotlib.pyplot as plt\n",
        "\n",
        "# Get feature importances\n",
        "importances = model.feature_importances_\n",
        "features = X_train.columns\n",
        "\n",
        "# Plot feature importances\n",
        "plt.figure(figsize=(10, 6))\n",
        "plt.barh(features, importances)\n",
        "plt.xlabel(\"Feature Importance\")\n",
        "plt.title(\"Feature Importance in Random Forest Model\")\n",
        "plt.show()\n"
      ]
    },
    {
      "cell_type": "code",
      "execution_count": null,
      "metadata": {
        "colab": {
          "base_uri": "https://localhost:8080/"
        },
        "id": "IcI4Be-0n27s",
        "outputId": "ff4a156e-1c46-42cf-a97c-6fe95f83f04b"
      },
      "outputs": [
        {
          "name": "stdout",
          "output_type": "stream",
          "text": [
            "Feature Importances: [0. 0. 0. 0. 0. 0. 0. 0. 0. 0. 0. 0. 0. 0. 0.]\n"
          ]
        }
      ],
      "source": [
        "print(\"Feature Importances:\", model.feature_importances_)\n"
      ]
    },
    {
      "cell_type": "code",
      "execution_count": null,
      "metadata": {
        "colab": {
          "base_uri": "https://localhost:8080/"
        },
        "id": "W3uyHAKprQE_",
        "outputId": "8517a86a-a2ec-40db-a7a3-c5f7a563eafe"
      },
      "outputs": [
        {
          "name": "stdout",
          "output_type": "stream",
          "text": [
            "Features: Index(['info1', 'info2', 'year', 'month', 'day', 'hour', 'day_of_week',\n",
            "       'hour_sin', 'hour_cos', 'day_of_week_sin', 'day_of_week_cos',\n",
            "       'info1_lag_1', 'info2_lag_1', 'info1_rolling_mean_3',\n",
            "       'info2_rolling_std_3'],\n",
            "      dtype='object')\n"
          ]
        }
      ],
      "source": [
        "print(\"Features:\", X_train.columns)\n"
      ]
    },
    {
      "cell_type": "code",
      "execution_count": null,
      "metadata": {
        "colab": {
          "base_uri": "https://localhost:8080/",
          "height": 80
        },
        "id": "lgu-AIzDrReF",
        "outputId": "b007d2a8-1ad6-4d5d-d080-c72b61c2f180"
      },
      "outputs": [
        {
          "data": {
            "text/html": [
              "<style>#sk-container-id-2 {\n",
              "  /* Definition of color scheme common for light and dark mode */\n",
              "  --sklearn-color-text: black;\n",
              "  --sklearn-color-line: gray;\n",
              "  /* Definition of color scheme for unfitted estimators */\n",
              "  --sklearn-color-unfitted-level-0: #fff5e6;\n",
              "  --sklearn-color-unfitted-level-1: #f6e4d2;\n",
              "  --sklearn-color-unfitted-level-2: #ffe0b3;\n",
              "  --sklearn-color-unfitted-level-3: chocolate;\n",
              "  /* Definition of color scheme for fitted estimators */\n",
              "  --sklearn-color-fitted-level-0: #f0f8ff;\n",
              "  --sklearn-color-fitted-level-1: #d4ebff;\n",
              "  --sklearn-color-fitted-level-2: #b3dbfd;\n",
              "  --sklearn-color-fitted-level-3: cornflowerblue;\n",
              "\n",
              "  /* Specific color for light theme */\n",
              "  --sklearn-color-text-on-default-background: var(--sg-text-color, var(--theme-code-foreground, var(--jp-content-font-color1, black)));\n",
              "  --sklearn-color-background: var(--sg-background-color, var(--theme-background, var(--jp-layout-color0, white)));\n",
              "  --sklearn-color-border-box: var(--sg-text-color, var(--theme-code-foreground, var(--jp-content-font-color1, black)));\n",
              "  --sklearn-color-icon: #696969;\n",
              "\n",
              "  @media (prefers-color-scheme: dark) {\n",
              "    /* Redefinition of color scheme for dark theme */\n",
              "    --sklearn-color-text-on-default-background: var(--sg-text-color, var(--theme-code-foreground, var(--jp-content-font-color1, white)));\n",
              "    --sklearn-color-background: var(--sg-background-color, var(--theme-background, var(--jp-layout-color0, #111)));\n",
              "    --sklearn-color-border-box: var(--sg-text-color, var(--theme-code-foreground, var(--jp-content-font-color1, white)));\n",
              "    --sklearn-color-icon: #878787;\n",
              "  }\n",
              "}\n",
              "\n",
              "#sk-container-id-2 {\n",
              "  color: var(--sklearn-color-text);\n",
              "}\n",
              "\n",
              "#sk-container-id-2 pre {\n",
              "  padding: 0;\n",
              "}\n",
              "\n",
              "#sk-container-id-2 input.sk-hidden--visually {\n",
              "  border: 0;\n",
              "  clip: rect(1px 1px 1px 1px);\n",
              "  clip: rect(1px, 1px, 1px, 1px);\n",
              "  height: 1px;\n",
              "  margin: -1px;\n",
              "  overflow: hidden;\n",
              "  padding: 0;\n",
              "  position: absolute;\n",
              "  width: 1px;\n",
              "}\n",
              "\n",
              "#sk-container-id-2 div.sk-dashed-wrapped {\n",
              "  border: 1px dashed var(--sklearn-color-line);\n",
              "  margin: 0 0.4em 0.5em 0.4em;\n",
              "  box-sizing: border-box;\n",
              "  padding-bottom: 0.4em;\n",
              "  background-color: var(--sklearn-color-background);\n",
              "}\n",
              "\n",
              "#sk-container-id-2 div.sk-container {\n",
              "  /* jupyter's `normalize.less` sets `[hidden] { display: none; }`\n",
              "     but bootstrap.min.css set `[hidden] { display: none !important; }`\n",
              "     so we also need the `!important` here to be able to override the\n",
              "     default hidden behavior on the sphinx rendered scikit-learn.org.\n",
              "     See: https://github.com/scikit-learn/scikit-learn/issues/21755 */\n",
              "  display: inline-block !important;\n",
              "  position: relative;\n",
              "}\n",
              "\n",
              "#sk-container-id-2 div.sk-text-repr-fallback {\n",
              "  display: none;\n",
              "}\n",
              "\n",
              "div.sk-parallel-item,\n",
              "div.sk-serial,\n",
              "div.sk-item {\n",
              "  /* draw centered vertical line to link estimators */\n",
              "  background-image: linear-gradient(var(--sklearn-color-text-on-default-background), var(--sklearn-color-text-on-default-background));\n",
              "  background-size: 2px 100%;\n",
              "  background-repeat: no-repeat;\n",
              "  background-position: center center;\n",
              "}\n",
              "\n",
              "/* Parallel-specific style estimator block */\n",
              "\n",
              "#sk-container-id-2 div.sk-parallel-item::after {\n",
              "  content: \"\";\n",
              "  width: 100%;\n",
              "  border-bottom: 2px solid var(--sklearn-color-text-on-default-background);\n",
              "  flex-grow: 1;\n",
              "}\n",
              "\n",
              "#sk-container-id-2 div.sk-parallel {\n",
              "  display: flex;\n",
              "  align-items: stretch;\n",
              "  justify-content: center;\n",
              "  background-color: var(--sklearn-color-background);\n",
              "  position: relative;\n",
              "}\n",
              "\n",
              "#sk-container-id-2 div.sk-parallel-item {\n",
              "  display: flex;\n",
              "  flex-direction: column;\n",
              "}\n",
              "\n",
              "#sk-container-id-2 div.sk-parallel-item:first-child::after {\n",
              "  align-self: flex-end;\n",
              "  width: 50%;\n",
              "}\n",
              "\n",
              "#sk-container-id-2 div.sk-parallel-item:last-child::after {\n",
              "  align-self: flex-start;\n",
              "  width: 50%;\n",
              "}\n",
              "\n",
              "#sk-container-id-2 div.sk-parallel-item:only-child::after {\n",
              "  width: 0;\n",
              "}\n",
              "\n",
              "/* Serial-specific style estimator block */\n",
              "\n",
              "#sk-container-id-2 div.sk-serial {\n",
              "  display: flex;\n",
              "  flex-direction: column;\n",
              "  align-items: center;\n",
              "  background-color: var(--sklearn-color-background);\n",
              "  padding-right: 1em;\n",
              "  padding-left: 1em;\n",
              "}\n",
              "\n",
              "\n",
              "/* Toggleable style: style used for estimator/Pipeline/ColumnTransformer box that is\n",
              "clickable and can be expanded/collapsed.\n",
              "- Pipeline and ColumnTransformer use this feature and define the default style\n",
              "- Estimators will overwrite some part of the style using the `sk-estimator` class\n",
              "*/\n",
              "\n",
              "/* Pipeline and ColumnTransformer style (default) */\n",
              "\n",
              "#sk-container-id-2 div.sk-toggleable {\n",
              "  /* Default theme specific background. It is overwritten whether we have a\n",
              "  specific estimator or a Pipeline/ColumnTransformer */\n",
              "  background-color: var(--sklearn-color-background);\n",
              "}\n",
              "\n",
              "/* Toggleable label */\n",
              "#sk-container-id-2 label.sk-toggleable__label {\n",
              "  cursor: pointer;\n",
              "  display: block;\n",
              "  width: 100%;\n",
              "  margin-bottom: 0;\n",
              "  padding: 0.5em;\n",
              "  box-sizing: border-box;\n",
              "  text-align: center;\n",
              "}\n",
              "\n",
              "#sk-container-id-2 label.sk-toggleable__label-arrow:before {\n",
              "  /* Arrow on the left of the label */\n",
              "  content: \"▸\";\n",
              "  float: left;\n",
              "  margin-right: 0.25em;\n",
              "  color: var(--sklearn-color-icon);\n",
              "}\n",
              "\n",
              "#sk-container-id-2 label.sk-toggleable__label-arrow:hover:before {\n",
              "  color: var(--sklearn-color-text);\n",
              "}\n",
              "\n",
              "/* Toggleable content - dropdown */\n",
              "\n",
              "#sk-container-id-2 div.sk-toggleable__content {\n",
              "  max-height: 0;\n",
              "  max-width: 0;\n",
              "  overflow: hidden;\n",
              "  text-align: left;\n",
              "  /* unfitted */\n",
              "  background-color: var(--sklearn-color-unfitted-level-0);\n",
              "}\n",
              "\n",
              "#sk-container-id-2 div.sk-toggleable__content.fitted {\n",
              "  /* fitted */\n",
              "  background-color: var(--sklearn-color-fitted-level-0);\n",
              "}\n",
              "\n",
              "#sk-container-id-2 div.sk-toggleable__content pre {\n",
              "  margin: 0.2em;\n",
              "  border-radius: 0.25em;\n",
              "  color: var(--sklearn-color-text);\n",
              "  /* unfitted */\n",
              "  background-color: var(--sklearn-color-unfitted-level-0);\n",
              "}\n",
              "\n",
              "#sk-container-id-2 div.sk-toggleable__content.fitted pre {\n",
              "  /* unfitted */\n",
              "  background-color: var(--sklearn-color-fitted-level-0);\n",
              "}\n",
              "\n",
              "#sk-container-id-2 input.sk-toggleable__control:checked~div.sk-toggleable__content {\n",
              "  /* Expand drop-down */\n",
              "  max-height: 200px;\n",
              "  max-width: 100%;\n",
              "  overflow: auto;\n",
              "}\n",
              "\n",
              "#sk-container-id-2 input.sk-toggleable__control:checked~label.sk-toggleable__label-arrow:before {\n",
              "  content: \"▾\";\n",
              "}\n",
              "\n",
              "/* Pipeline/ColumnTransformer-specific style */\n",
              "\n",
              "#sk-container-id-2 div.sk-label input.sk-toggleable__control:checked~label.sk-toggleable__label {\n",
              "  color: var(--sklearn-color-text);\n",
              "  background-color: var(--sklearn-color-unfitted-level-2);\n",
              "}\n",
              "\n",
              "#sk-container-id-2 div.sk-label.fitted input.sk-toggleable__control:checked~label.sk-toggleable__label {\n",
              "  background-color: var(--sklearn-color-fitted-level-2);\n",
              "}\n",
              "\n",
              "/* Estimator-specific style */\n",
              "\n",
              "/* Colorize estimator box */\n",
              "#sk-container-id-2 div.sk-estimator input.sk-toggleable__control:checked~label.sk-toggleable__label {\n",
              "  /* unfitted */\n",
              "  background-color: var(--sklearn-color-unfitted-level-2);\n",
              "}\n",
              "\n",
              "#sk-container-id-2 div.sk-estimator.fitted input.sk-toggleable__control:checked~label.sk-toggleable__label {\n",
              "  /* fitted */\n",
              "  background-color: var(--sklearn-color-fitted-level-2);\n",
              "}\n",
              "\n",
              "#sk-container-id-2 div.sk-label label.sk-toggleable__label,\n",
              "#sk-container-id-2 div.sk-label label {\n",
              "  /* The background is the default theme color */\n",
              "  color: var(--sklearn-color-text-on-default-background);\n",
              "}\n",
              "\n",
              "/* On hover, darken the color of the background */\n",
              "#sk-container-id-2 div.sk-label:hover label.sk-toggleable__label {\n",
              "  color: var(--sklearn-color-text);\n",
              "  background-color: var(--sklearn-color-unfitted-level-2);\n",
              "}\n",
              "\n",
              "/* Label box, darken color on hover, fitted */\n",
              "#sk-container-id-2 div.sk-label.fitted:hover label.sk-toggleable__label.fitted {\n",
              "  color: var(--sklearn-color-text);\n",
              "  background-color: var(--sklearn-color-fitted-level-2);\n",
              "}\n",
              "\n",
              "/* Estimator label */\n",
              "\n",
              "#sk-container-id-2 div.sk-label label {\n",
              "  font-family: monospace;\n",
              "  font-weight: bold;\n",
              "  display: inline-block;\n",
              "  line-height: 1.2em;\n",
              "}\n",
              "\n",
              "#sk-container-id-2 div.sk-label-container {\n",
              "  text-align: center;\n",
              "}\n",
              "\n",
              "/* Estimator-specific */\n",
              "#sk-container-id-2 div.sk-estimator {\n",
              "  font-family: monospace;\n",
              "  border: 1px dotted var(--sklearn-color-border-box);\n",
              "  border-radius: 0.25em;\n",
              "  box-sizing: border-box;\n",
              "  margin-bottom: 0.5em;\n",
              "  /* unfitted */\n",
              "  background-color: var(--sklearn-color-unfitted-level-0);\n",
              "}\n",
              "\n",
              "#sk-container-id-2 div.sk-estimator.fitted {\n",
              "  /* fitted */\n",
              "  background-color: var(--sklearn-color-fitted-level-0);\n",
              "}\n",
              "\n",
              "/* on hover */\n",
              "#sk-container-id-2 div.sk-estimator:hover {\n",
              "  /* unfitted */\n",
              "  background-color: var(--sklearn-color-unfitted-level-2);\n",
              "}\n",
              "\n",
              "#sk-container-id-2 div.sk-estimator.fitted:hover {\n",
              "  /* fitted */\n",
              "  background-color: var(--sklearn-color-fitted-level-2);\n",
              "}\n",
              "\n",
              "/* Specification for estimator info (e.g. \"i\" and \"?\") */\n",
              "\n",
              "/* Common style for \"i\" and \"?\" */\n",
              "\n",
              ".sk-estimator-doc-link,\n",
              "a:link.sk-estimator-doc-link,\n",
              "a:visited.sk-estimator-doc-link {\n",
              "  float: right;\n",
              "  font-size: smaller;\n",
              "  line-height: 1em;\n",
              "  font-family: monospace;\n",
              "  background-color: var(--sklearn-color-background);\n",
              "  border-radius: 1em;\n",
              "  height: 1em;\n",
              "  width: 1em;\n",
              "  text-decoration: none !important;\n",
              "  margin-left: 1ex;\n",
              "  /* unfitted */\n",
              "  border: var(--sklearn-color-unfitted-level-1) 1pt solid;\n",
              "  color: var(--sklearn-color-unfitted-level-1);\n",
              "}\n",
              "\n",
              ".sk-estimator-doc-link.fitted,\n",
              "a:link.sk-estimator-doc-link.fitted,\n",
              "a:visited.sk-estimator-doc-link.fitted {\n",
              "  /* fitted */\n",
              "  border: var(--sklearn-color-fitted-level-1) 1pt solid;\n",
              "  color: var(--sklearn-color-fitted-level-1);\n",
              "}\n",
              "\n",
              "/* On hover */\n",
              "div.sk-estimator:hover .sk-estimator-doc-link:hover,\n",
              ".sk-estimator-doc-link:hover,\n",
              "div.sk-label-container:hover .sk-estimator-doc-link:hover,\n",
              ".sk-estimator-doc-link:hover {\n",
              "  /* unfitted */\n",
              "  background-color: var(--sklearn-color-unfitted-level-3);\n",
              "  color: var(--sklearn-color-background);\n",
              "  text-decoration: none;\n",
              "}\n",
              "\n",
              "div.sk-estimator.fitted:hover .sk-estimator-doc-link.fitted:hover,\n",
              ".sk-estimator-doc-link.fitted:hover,\n",
              "div.sk-label-container:hover .sk-estimator-doc-link.fitted:hover,\n",
              ".sk-estimator-doc-link.fitted:hover {\n",
              "  /* fitted */\n",
              "  background-color: var(--sklearn-color-fitted-level-3);\n",
              "  color: var(--sklearn-color-background);\n",
              "  text-decoration: none;\n",
              "}\n",
              "\n",
              "/* Span, style for the box shown on hovering the info icon */\n",
              ".sk-estimator-doc-link span {\n",
              "  display: none;\n",
              "  z-index: 9999;\n",
              "  position: relative;\n",
              "  font-weight: normal;\n",
              "  right: .2ex;\n",
              "  padding: .5ex;\n",
              "  margin: .5ex;\n",
              "  width: min-content;\n",
              "  min-width: 20ex;\n",
              "  max-width: 50ex;\n",
              "  color: var(--sklearn-color-text);\n",
              "  box-shadow: 2pt 2pt 4pt #999;\n",
              "  /* unfitted */\n",
              "  background: var(--sklearn-color-unfitted-level-0);\n",
              "  border: .5pt solid var(--sklearn-color-unfitted-level-3);\n",
              "}\n",
              "\n",
              ".sk-estimator-doc-link.fitted span {\n",
              "  /* fitted */\n",
              "  background: var(--sklearn-color-fitted-level-0);\n",
              "  border: var(--sklearn-color-fitted-level-3);\n",
              "}\n",
              "\n",
              ".sk-estimator-doc-link:hover span {\n",
              "  display: block;\n",
              "}\n",
              "\n",
              "/* \"?\"-specific style due to the `<a>` HTML tag */\n",
              "\n",
              "#sk-container-id-2 a.estimator_doc_link {\n",
              "  float: right;\n",
              "  font-size: 1rem;\n",
              "  line-height: 1em;\n",
              "  font-family: monospace;\n",
              "  background-color: var(--sklearn-color-background);\n",
              "  border-radius: 1rem;\n",
              "  height: 1rem;\n",
              "  width: 1rem;\n",
              "  text-decoration: none;\n",
              "  /* unfitted */\n",
              "  color: var(--sklearn-color-unfitted-level-1);\n",
              "  border: var(--sklearn-color-unfitted-level-1) 1pt solid;\n",
              "}\n",
              "\n",
              "#sk-container-id-2 a.estimator_doc_link.fitted {\n",
              "  /* fitted */\n",
              "  border: var(--sklearn-color-fitted-level-1) 1pt solid;\n",
              "  color: var(--sklearn-color-fitted-level-1);\n",
              "}\n",
              "\n",
              "/* On hover */\n",
              "#sk-container-id-2 a.estimator_doc_link:hover {\n",
              "  /* unfitted */\n",
              "  background-color: var(--sklearn-color-unfitted-level-3);\n",
              "  color: var(--sklearn-color-background);\n",
              "  text-decoration: none;\n",
              "}\n",
              "\n",
              "#sk-container-id-2 a.estimator_doc_link.fitted:hover {\n",
              "  /* fitted */\n",
              "  background-color: var(--sklearn-color-fitted-level-3);\n",
              "}\n",
              "</style><div id=\"sk-container-id-2\" class=\"sk-top-container\"><div class=\"sk-text-repr-fallback\"><pre>RandomForestClassifier(random_state=42)</pre><b>In a Jupyter environment, please rerun this cell to show the HTML representation or trust the notebook. <br />On GitHub, the HTML representation is unable to render, please try loading this page with nbviewer.org.</b></div><div class=\"sk-container\" hidden><div class=\"sk-item\"><div class=\"sk-estimator fitted sk-toggleable\"><input class=\"sk-toggleable__control sk-hidden--visually\" id=\"sk-estimator-id-2\" type=\"checkbox\" checked><label for=\"sk-estimator-id-2\" class=\"sk-toggleable__label fitted sk-toggleable__label-arrow fitted\">&nbsp;&nbsp;RandomForestClassifier<a class=\"sk-estimator-doc-link fitted\" rel=\"noreferrer\" target=\"_blank\" href=\"https://scikit-learn.org/1.5/modules/generated/sklearn.ensemble.RandomForestClassifier.html\">?<span>Documentation for RandomForestClassifier</span></a><span class=\"sk-estimator-doc-link fitted\">i<span>Fitted</span></span></label><div class=\"sk-toggleable__content fitted\"><pre>RandomForestClassifier(random_state=42)</pre></div> </div></div></div></div>"
            ],
            "text/plain": [
              "RandomForestClassifier(random_state=42)"
            ]
          },
          "execution_count": 41,
          "metadata": {},
          "output_type": "execute_result"
        }
      ],
      "source": [
        "model = RandomForestClassifier(n_estimators=100, random_state=42)\n",
        "model.fit(X_train, y_train)\n"
      ]
    },
    {
      "cell_type": "code",
      "execution_count": null,
      "metadata": {
        "colab": {
          "base_uri": "https://localhost:8080/"
        },
        "id": "RNa9CHjJrTpa",
        "outputId": "56921230-3ab8-4a1d-aa4b-fa81c20a61f5"
      },
      "outputs": [
        {
          "name": "stdout",
          "output_type": "stream",
          "text": [
            "No feature importances available. Check model and data.\n"
          ]
        }
      ],
      "source": [
        "import matplotlib.pyplot as plt\n",
        "import numpy as np\n",
        "\n",
        "# Check if feature importances are calculated and non-zero\n",
        "importances = model.feature_importances_\n",
        "if len(importances) == 0 or np.all(importances == 0):\n",
        "    print(\"No feature importances available. Check model and data.\")\n",
        "else:\n",
        "    # Plot feature importances\n",
        "    features = X_train.columns\n",
        "    plt.figure(figsize=(10, 6))\n",
        "    plt.barh(features, importances)\n",
        "    plt.xlabel(\"Feature Importance\")\n",
        "    plt.title(\"Feature Importance in Random Forest Model\")\n",
        "    plt.show()\n"
      ]
    },
    {
      "cell_type": "code",
      "execution_count": null,
      "metadata": {
        "colab": {
          "base_uri": "https://localhost:8080/"
        },
        "id": "MZX1re7vrWOw",
        "outputId": "f182ff15-396f-4d56-f4a4-358ea608cdbb"
      },
      "outputs": [
        {
          "name": "stdout",
          "output_type": "stream",
          "text": [
            "info1                   float64\n",
            "info2                   float64\n",
            "year                      int32\n",
            "month                     int32\n",
            "day                       int32\n",
            "hour                      int32\n",
            "day_of_week               int32\n",
            "hour_sin                float64\n",
            "hour_cos                float64\n",
            "day_of_week_sin         float64\n",
            "day_of_week_cos         float64\n",
            "info1_lag_1             float64\n",
            "info2_lag_1             float64\n",
            "info1_rolling_mean_3    float64\n",
            "info2_rolling_std_3     float64\n",
            "dtype: object\n",
            "int64\n"
          ]
        }
      ],
      "source": [
        "print(X_train.dtypes)\n",
        "print(y_train.dtypes)\n"
      ]
    },
    {
      "cell_type": "code",
      "execution_count": null,
      "metadata": {
        "colab": {
          "base_uri": "https://localhost:8080/"
        },
        "id": "AiBkbHZnr1Dt",
        "outputId": "37ed43c7-d470-4fe2-e57a-663d3a171c0b"
      },
      "outputs": [
        {
          "name": "stdout",
          "output_type": "stream",
          "text": [
            "Feature Importances: [0. 0. 0. 0. 0. 0. 0. 0. 0. 0. 0. 0. 0. 0. 0.]\n"
          ]
        }
      ],
      "source": [
        "from sklearn.ensemble import RandomForestClassifier\n",
        "from sklearn.model_selection import train_test_split\n",
        "\n",
        "# Further split the dataset if necessary to verify the model behavior\n",
        "X_sample, _, y_sample, _ = train_test_split(X_train, y_train, train_size=0.1, random_state=42)\n",
        "\n",
        "model = RandomForestClassifier(n_estimators=10, random_state=42)\n",
        "model.fit(X_sample, y_sample)\n",
        "\n",
        "# Check if feature importances are available\n",
        "if hasattr(model, \"feature_importances_\"):\n",
        "    print(\"Feature Importances:\", model.feature_importances_)\n",
        "else:\n",
        "    print(\"Model does not provide feature importances.\")\n"
      ]
    },
    {
      "cell_type": "code",
      "execution_count": null,
      "metadata": {
        "colab": {
          "base_uri": "https://localhost:8080/",
          "height": 564
        },
        "id": "x6-doxEDr4ec",
        "outputId": "1f4c8540-fd59-4fa6-857c-552d487e82a5"
      },
      "outputs": [
        {
          "data": {
            "image/png": "[encoded data removed]",
            "text/plain": [
              "<Figure size 1000x600 with 1 Axes>"
            ]
          },
          "metadata": {},
          "output_type": "display_data"
        }
      ],
      "source": [
        "from sklearn.inspection import permutation_importance\n",
        "\n",
        "# Compute permutation importance\n",
        "result = permutation_importance(model, X_sample, y_sample, n_repeats=10, random_state=42)\n",
        "\n",
        "# Plot permutation importances\n",
        "importances = result.importances_mean\n",
        "features = X_sample.columns\n",
        "\n",
        "plt.figure(figsize=(10, 6))\n",
        "plt.barh(features, importances)\n",
        "plt.xlabel(\"Permutation Importance\")\n",
        "plt.title(\"Permutation Feature Importance in Random Forest Model\")\n",
        "plt.show()\n"
      ]
    },
    {
      "cell_type": "code",
      "execution_count": null,
      "metadata": {
        "colab": {
          "base_uri": "https://localhost:8080/"
        },
        "id": "EGvkAPzGr7Ce",
        "outputId": "409497d9-5323-49a9-a8bf-ab8acc96e598"
      },
      "outputs": [
        {
          "name": "stdout",
          "output_type": "stream",
          "text": [
            "            info1     info2\n",
            "1417178 -0.150171 -0.150167\n",
            "1417179 -0.150171 -0.150167\n",
            "1417180 -0.150171 -0.150167\n",
            "1417181 -0.150171 -0.150167\n",
            "1417182 -0.150171 -0.150167\n",
            "1417178    0\n",
            "1417179    0\n",
            "1417180    0\n",
            "1417181    0\n",
            "1417182    0\n",
            "Name: appliance, dtype: int64\n"
          ]
        }
      ],
      "source": [
        "# Create a small sample dataset with only numeric features\n",
        "X_sample = X_train[['info1', 'info2']]  # Include only numeric features\n",
        "y_sample = y_train.copy()\n",
        "\n",
        "# Check the sample dataset\n",
        "print(X_sample.head())\n",
        "print(y_sample.head())\n"
      ]
    },
    {
      "cell_type": "code",
      "execution_count": null,
      "metadata": {
        "colab": {
          "base_uri": "https://localhost:8080/",
          "height": 581
        },
        "id": "vnM5B6bHsLCp",
        "outputId": "0cc971f7-8871-44fe-bc6a-0cba944f5a5f"
      },
      "outputs": [
        {
          "name": "stdout",
          "output_type": "stream",
          "text": [
            "Feature Importances: [0. 0.]\n"
          ]
        },
        {
          "data": {
            "image/png": "[encoded data removed]",
            "text/plain": [
              "<Figure size 1000x600 with 1 Axes>"
            ]
          },
          "metadata": {},
          "output_type": "display_data"
        }
      ],
      "source": [
        "from sklearn.ensemble import RandomForestClassifier\n",
        "from sklearn.model_selection import train_test_split\n",
        "\n",
        "# Split the sample dataset\n",
        "X_train_sample, X_test_sample, y_train_sample, y_test_sample = train_test_split(\n",
        "    X_sample, y_sample, test_size=0.2, random_state=42\n",
        ")\n",
        "\n",
        "# Train the Random Forest model\n",
        "model = RandomForestClassifier(n_estimators=100, random_state=42)\n",
        "model.fit(X_train_sample, y_train_sample)\n",
        "\n",
        "# Check if feature importances are available\n",
        "importances = model.feature_importances_\n",
        "print(\"Feature Importances:\", importances)\n",
        "\n",
        "# Plot feature importances if available\n",
        "if len(importances) > 0:\n",
        "    features = X_train_sample.columns\n",
        "    plt.figure(figsize=(10, 6))\n",
        "    plt.barh(features, importances)\n",
        "    plt.xlabel(\"Feature Importance\")\n",
        "    plt.title(\"Feature Importance in Random Forest Model\")\n",
        "    plt.show()\n",
        "else:\n",
        "    print(\"No feature importances available.\")\n"
      ]
    },
    {
      "cell_type": "code",
      "execution_count": null,
      "metadata": {
        "colab": {
          "base_uri": "https://localhost:8080/"
        },
        "id": "fA8L14tKsNOs",
        "outputId": "5cf8a450-325c-45e3-fd76-be2e0013526e"
      },
      "outputs": [
        {
          "name": "stdout",
          "output_type": "stream",
          "text": [
            "Constant Features: []\n"
          ]
        }
      ],
      "source": [
        "# Check for constant features\n",
        "constant_features = [col for col in X_train.columns if X_train[col].nunique() <= 1]\n",
        "print(\"Constant Features:\", constant_features)\n"
      ]
    },
    {
      "cell_type": "markdown",
      "metadata": {
        "id": "sWVbmFP6IIpk"
      },
      "source": [
        "# logistic Regression"
      ]
    },
    {
      "cell_type": "code",
      "execution_count": null,
      "metadata": {
        "colab": {
          "base_uri": "https://localhost:8080/",
          "height": 356
        },
        "id": "tc140rZVsPeJ",
        "outputId": "145ded6b-489a-4bd4-b34f-9d312e601a01"
      },
      "outputs": [
        {
          "ename": "ValueError",
          "evalue": "This solver needs samples of at least 2 classes in the data, but the data contains only one class: 0",
          "output_type": "error",
          "traceback": [
            "\u001b[0;31m---------------------------------------------------------------------------\u001b[0m",
            "\u001b[0;31mValueError\u001b[0m                                Traceback (most recent call last)",
            "\u001b[0;32m<ipython-input-50-ac65ebfda02d>\u001b[0m in \u001b[0;36m<cell line: 6>\u001b[0;34m()\u001b[0m\n\u001b[1;32m      4\u001b[0m \u001b[0;31m# Train with Logistic Regression as a test\u001b[0m\u001b[0;34m\u001b[0m\u001b[0;34m\u001b[0m\u001b[0m\n\u001b[1;32m      5\u001b[0m \u001b[0mlog_model\u001b[0m \u001b[0;34m=\u001b[0m \u001b[0mLogisticRegression\u001b[0m\u001b[0;34m(\u001b[0m\u001b[0mmax_iter\u001b[0m\u001b[0;34m=\u001b[0m\u001b[0;36m1000\u001b[0m\u001b[0;34m)\u001b[0m\u001b[0;34m\u001b[0m\u001b[0;34m\u001b[0m\u001b[0m\n\u001b[0;32m----> 6\u001b[0;31m \u001b[0mlog_model\u001b[0m\u001b[0;34m.\u001b[0m\u001b[0mfit\u001b[0m\u001b[0;34m(\u001b[0m\u001b[0mX_train_sample\u001b[0m\u001b[0;34m,\u001b[0m \u001b[0my_train_sample\u001b[0m\u001b[0;34m)\u001b[0m\u001b[0;34m\u001b[0m\u001b[0;34m\u001b[0m\u001b[0m\n\u001b[0m\u001b[1;32m      7\u001b[0m \u001b[0;34m\u001b[0m\u001b[0m\n\u001b[1;32m      8\u001b[0m \u001b[0;31m# Predict and evaluate\u001b[0m\u001b[0;34m\u001b[0m\u001b[0;34m\u001b[0m\u001b[0m\n",
            "\u001b[0;32m/usr/local/lib/python3.10/dist-packages/sklearn/base.py\u001b[0m in \u001b[0;36mwrapper\u001b[0;34m(estimator, *args, **kwargs)\u001b[0m\n\u001b[1;32m   1471\u001b[0m                 )\n\u001b[1;32m   1472\u001b[0m             ):\n\u001b[0;32m-> 1473\u001b[0;31m                 \u001b[0;32mreturn\u001b[0m \u001b[0mfit_method\u001b[0m\u001b[0;34m(\u001b[0m\u001b[0mestimator\u001b[0m\u001b[0;34m,\u001b[0m \u001b[0;34m*\u001b[0m\u001b[0margs\u001b[0m\u001b[0;34m,\u001b[0m \u001b[0;34m**\u001b[0m\u001b[0mkwargs\u001b[0m\u001b[0;34m)\u001b[0m\u001b[0;34m\u001b[0m\u001b[0;34m\u001b[0m\u001b[0m\n\u001b[0m\u001b[1;32m   1474\u001b[0m \u001b[0;34m\u001b[0m\u001b[0m\n\u001b[1;32m   1475\u001b[0m         \u001b[0;32mreturn\u001b[0m \u001b[0mwrapper\u001b[0m\u001b[0;34m\u001b[0m\u001b[0;34m\u001b[0m\u001b[0m\n",
            "\u001b[0;32m/usr/local/lib/python3.10/dist-packages/sklearn/linear_model/_logistic.py\u001b[0m in \u001b[0;36mfit\u001b[0;34m(self, X, y, sample_weight)\u001b[0m\n\u001b[1;32m   1299\u001b[0m         \u001b[0mclasses_\u001b[0m \u001b[0;34m=\u001b[0m \u001b[0mself\u001b[0m\u001b[0;34m.\u001b[0m\u001b[0mclasses_\u001b[0m\u001b[0;34m\u001b[0m\u001b[0;34m\u001b[0m\u001b[0m\n\u001b[1;32m   1300\u001b[0m         \u001b[0;32mif\u001b[0m \u001b[0mn_classes\u001b[0m \u001b[0;34m<\u001b[0m \u001b[0;36m2\u001b[0m\u001b[0;34m:\u001b[0m\u001b[0;34m\u001b[0m\u001b[0;34m\u001b[0m\u001b[0m\n\u001b[0;32m-> 1301\u001b[0;31m             raise ValueError(\n\u001b[0m\u001b[1;32m   1302\u001b[0m                 \u001b[0;34m\"This solver needs samples of at least 2 classes\"\u001b[0m\u001b[0;34m\u001b[0m\u001b[0;34m\u001b[0m\u001b[0m\n\u001b[1;32m   1303\u001b[0m                 \u001b[0;34m\" in the data, but the data contains only one\"\u001b[0m\u001b[0;34m\u001b[0m\u001b[0;34m\u001b[0m\u001b[0m\n",
            "\u001b[0;31mValueError\u001b[0m: This solver needs samples of at least 2 classes in the data, but the data contains only one class: 0"
          ]
        }
      ],
      "source": [
        "from sklearn.linear_model import LogisticRegression\n",
        "from sklearn.metrics import accuracy_score\n",
        "\n",
        "# Train with Logistic Regression as a test\n",
        "log_model = LogisticRegression(max_iter=1000)\n",
        "log_model.fit(X_train_sample, y_train_sample)\n",
        "\n",
        "# Predict and evaluate\n",
        "y_pred_log = log_model.predict(X_test_sample)\n",
        "accuracy_log = accuracy_score(y_test_sample, y_pred_log)\n",
        "print(f\"Logistic Regression Accuracy: {accuracy_log * 100:.2f}%\")\n"
      ]
    },
    {
      "cell_type": "code",
      "execution_count": null,
      "metadata": {
        "id": "s4AmeIK7sRDm"
      },
      "outputs": [],
      "source": []
    }
  ],
  "metadata": {
    "colab": {
      "collapsed_sections": [
        "NPMlNqQ0hWDQ",
        "z85A4i3c1jzT"
      ],
      "provenance": [],
      "gpuType": "V28",
      "mount_file_id": "1ZyOw3wZHZNKfXk7iU7i17g-aOTzOdJDd",
      "authorship_tag": "ABX9TyORXuY/XscdHaQO207ap05A",
      "include_colab_link": true
    },
    "kernelspec": {
      "display_name": "Python 3",
      "name": "python3"
    },
    "language_info": {
      "name": "python"
    },
    "accelerator": "TPU"
  },
  "nbformat": 4,
  "nbformat_minor": 0
}